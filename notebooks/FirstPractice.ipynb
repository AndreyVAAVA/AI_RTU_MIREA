{
 "cells": [
  {
   "cell_type": "markdown",
   "source": [
    "## Задание 1.3"
   ],
   "metadata": {
    "collapsed": false
   }
  },
  {
   "cell_type": "code",
   "execution_count": 109,
   "outputs": [
    {
     "name": "stdout",
     "output_type": "stream",
     "text": [
      "True | <class 'bool'> \n",
      " {8, 1, 3, 7} | <class 'set'> \n",
      " {2, 4, 5, 10, 'apple'} | <class 'set'> \n",
      " set() | <class 'set'> \n",
      " ('Антонова Антонина', 34, 'ж') | <class 'tuple'> \n",
      " <class 'type'> | <class 'type'> \n",
      " [1, 'title', 2, 'content'] | <class 'list'>\n"
     ]
    }
   ],
   "source": [
    "x = 5 >= 2\n",
    "A = {1, 3, 7, 8}\n",
    "B = {2, 4, 5, 10, 'apple'}\n",
    "C = A & B\n",
    "df = 'Антонова Антонина', 34, 'ж'\n",
    "z = type\n",
    "D = [1, 'title', 2, 'content']\n",
    "print(x, \"|\", type(x), \"\\n\", A, \"|\", type(A), \"\\n\", B, \"|\", type(B), \"\\n\", C, \"|\", type(C), \"\\n\", df, \"|\", type(df),\n",
    "      \"\\n\", z, \"|\", type(z), \"\\n\", D, \"|\", type(D))"
   ],
   "metadata": {
    "collapsed": false
   }
  },
  {
   "cell_type": "markdown",
   "source": [
    "## Задание 2.3"
   ],
   "metadata": {
    "collapsed": false
   }
  },
  {
   "cell_type": "code",
   "execution_count": 110,
   "outputs": [
    {
     "name": "stdout",
     "output_type": "stream",
     "text": [
      "(5, +infinity)\n"
     ]
    }
   ],
   "source": [
    "x: int = int(input())\n",
    "print(\"[-5, 5]\" if x >= -5 and x <= 5 else \"(-infinity, -5)\" if x < -5 else \"(5, +infinity)\")"
   ],
   "metadata": {
    "collapsed": false
   }
  },
  {
   "cell_type": "markdown",
   "source": [
    "## Задание 3.3.1"
   ],
   "metadata": {
    "collapsed": false
   }
  },
  {
   "cell_type": "code",
   "execution_count": 111,
   "outputs": [
    {
     "name": "stdout",
     "output_type": "stream",
     "text": [
      "10\n",
      "7\n",
      "4\n",
      "1\n"
     ]
    }
   ],
   "source": [
    "x = 10\n",
    "while (x > 0):\n",
    "    print(x)\n",
    "    x -= 3\n"
   ],
   "metadata": {
    "collapsed": false
   }
  },
  {
   "cell_type": "markdown",
   "source": [
    "## Задание 3.3.2"
   ],
   "metadata": {
    "collapsed": false
   }
  },
  {
   "cell_type": "code",
   "execution_count": 112,
   "outputs": [
    {
     "name": "stdout",
     "output_type": "stream",
     "text": [
      "['height', 'weight', 'IQ', 'age']\n"
     ]
    }
   ],
   "source": [
    "list_str = [\"height\", \"weight\", \"IQ\", \"age\"]\n",
    "print(list_str)\n"
   ],
   "metadata": {
    "collapsed": false
   }
  },
  {
   "cell_type": "markdown",
   "source": [
    "## Задание 3.3.3"
   ],
   "metadata": {
    "collapsed": false
   }
  },
  {
   "cell_type": "code",
   "execution_count": 113,
   "outputs": [
    {
     "name": "stdout",
     "output_type": "stream",
     "text": [
      "[2, 3, 4, 5, 6, 7, 8, 9, 10, 11, 12, 13, 14, 15]\n"
     ]
    }
   ],
   "source": [
    "list_int = [*range(2, 16, 1)]\n",
    "print(list_int)\n"
   ],
   "metadata": {
    "collapsed": false
   }
  },
  {
   "cell_type": "markdown",
   "source": [
    "## Задание 3.3.4"
   ],
   "metadata": {
    "collapsed": false
   }
  },
  {
   "cell_type": "code",
   "execution_count": 114,
   "outputs": [
    {
     "name": "stdout",
     "output_type": "stream",
     "text": [
      "105\n",
      "80\n",
      "55\n",
      "30\n",
      "5\n"
     ]
    }
   ],
   "source": [
    "for i in range(105, 0, -25):\n",
    "    print(i)\n"
   ],
   "metadata": {
    "collapsed": false
   }
  },
  {
   "cell_type": "markdown",
   "source": [
    "## Задание 3.3.5"
   ],
   "metadata": {
    "collapsed": false
   }
  },
  {
   "cell_type": "code",
   "execution_count": 115,
   "outputs": [
    {
     "name": "stdout",
     "output_type": "stream",
     "text": [
      "[8, 1, 6, 3, 4, 5, 2, 7, 0, 9]\n"
     ]
    }
   ],
   "source": [
    "x = [0, 1, 2, 3, 4, 5, 6, 7, 8, 9]\n",
    "x[0::2] = x[-2::-2]\n",
    "print(x)\n"
   ],
   "metadata": {
    "collapsed": false
   }
  },
  {
   "cell_type": "markdown",
   "source": [],
   "metadata": {
    "collapsed": false
   }
  },
  {
   "cell_type": "markdown",
   "source": [
    "## Задание 4.3.1"
   ],
   "metadata": {
    "collapsed": false
   }
  },
  {
   "cell_type": "markdown",
   "source": [],
   "metadata": {
    "collapsed": false
   }
  },
  {
   "cell_type": "code",
   "execution_count": 116,
   "outputs": [
    {
     "name": "stdout",
     "output_type": "stream",
     "text": [
      "0.6416557362290973\n",
      "0.6565844348783558\n"
     ]
    },
    {
     "data": {
      "text/plain": "<matplotlib.collections.PathCollection at 0x7fbd727d2670>"
     },
     "execution_count": 116,
     "metadata": {},
     "output_type": "execute_result"
    },
    {
     "data": {
      "text/plain": "<Figure size 432x288 with 1 Axes>",
      "image/png": "[encoded data removed]"
     },
     "metadata": {
      "needs_background": "light"
     },
     "output_type": "display_data"
    }
   ],
   "source": [
    "import math as m\n",
    "import numpy as np\n",
    "import matplotlib.pyplot as plt\n",
    "import pandas as pd\n",
    "\n",
    "\n",
    "def f2(x: int):\n",
    "    return m.cos(x * m.pow(m.e, (m.cos(x) + m.log(x + 1))))\n",
    "\n",
    "\n",
    "arr = np.random.rand(10)\n",
    "x = np.linspace(0, 10, 10)\n",
    "print(np.average(arr))\n",
    "print(np.median(arr))\n",
    "plt.scatter(x, arr)\n"
   ],
   "metadata": {
    "collapsed": false
   }
  },
  {
   "cell_type": "markdown",
   "source": [
    "## Задание 4.3.2"
   ],
   "metadata": {
    "collapsed": false
   }
  },
  {
   "cell_type": "code",
   "execution_count": 117,
   "outputs": [
    {
     "data": {
      "text/plain": "[<matplotlib.lines.Line2D at 0x7fbd71fcf070>]"
     },
     "execution_count": 117,
     "metadata": {},
     "output_type": "execute_result"
    },
    {
     "data": {
      "text/plain": "<Figure size 432x288 with 2 Axes>",
      "image/png": "[encoded data removed]"
     },
     "metadata": {
      "needs_background": "light"
     },
     "output_type": "display_data"
    }
   ],
   "source": [
    "def f(x: int):\n",
    "    return m.sqrt(1 + m.pow(m.e, m.sqrt(x)) + m.cos(pow(x, 2))) / (m.fabs(1 - pow(m.sin(x), 3))) + m.log(2 * x)\n",
    "\n",
    "\n",
    "arr = np.array([f(x) for x in range(1, 11)])\n",
    "x = np.linspace(1, 11, 10)\n",
    "plt.subplot(1, 2, 1)\n",
    "plt.plot(x, arr)\n",
    "plt.subplot(1, 2, 2)\n",
    "plt.plot(x[:5], arr[:5])"
   ],
   "metadata": {
    "collapsed": false
   }
  },
  {
   "cell_type": "markdown",
   "source": [
    "## Задание 4.3.3"
   ],
   "metadata": {
    "collapsed": false
   }
  },
  {
   "cell_type": "code",
   "execution_count": 118,
   "outputs": [
    {
     "name": "stdout",
     "output_type": "stream",
     "text": [
      "0.6688377197072483\n",
      "0.7226479133765044\n"
     ]
    },
    {
     "data": {
      "text/plain": "<matplotlib.collections.PathCollection at 0x7fbd7205f280>"
     },
     "execution_count": 118,
     "metadata": {},
     "output_type": "execute_result"
    },
    {
     "data": {
      "text/plain": "<Figure size 432x288 with 1 Axes>",
      "image/png": "[encoded data removed]"
     },
     "metadata": {
      "needs_background": "light"
     },
     "output_type": "display_data"
    }
   ],
   "source": [
    "def f2(x: int):\n",
    "    return m.cos(x * m.pow(m.e, (m.cos(x) + m.log(x + 1))))\n",
    "\n",
    "\n",
    "arr = np.random.rand(10)\n",
    "x = np.linspace(0, 10, 10)\n",
    "print(np.average(arr))\n",
    "print(np.median(arr))\n",
    "plt.scatter(x, arr)\n"
   ],
   "metadata": {
    "collapsed": false
   }
  },
  {
   "cell_type": "markdown",
   "source": [
    "## Задание 4.3.4"
   ],
   "metadata": {
    "collapsed": false
   }
  },
  {
   "cell_type": "code",
   "execution_count": 119,
   "outputs": [
    {
     "data": {
      "text/plain": "<Figure size 432x288 with 9 Axes>",
      "image/png": "[encoded data removed]"
     },
     "metadata": {
      "needs_background": "light"
     },
     "output_type": "display_data"
    }
   ],
   "source": [
    "## I masked path, so no one can one my own home pc path\n",
    "df = pd.read_csv(\"AAPL.csv\")\n",
    "fig, ax = plt.subplots(nrows=3, ncols=3)\n",
    "ax[0, 0].plot(df.Open)\n",
    "ax[0, 1].plot(df.Close)\n",
    "ax[0, 2].plot(df.Volume)\n",
    "df1 = pd.read_csv(\"GOOG.csv\")\n",
    "ax[1, 0].plot(df1.Open)\n",
    "ax[1, 1].plot(df1.Close)\n",
    "ax[1, 2].plot(df1.Volume)\n",
    "df2 = pd.read_csv(\"MSFT.csv\")\n",
    "ax[2, 0].plot(df2.Open)\n",
    "ax[2, 1].plot(df2.Close)\n",
    "ax[2, 2].plot(df2.Volume)\n",
    "plt.show()\n"
   ],
   "metadata": {
    "collapsed": false
   }
  },
  {
   "cell_type": "markdown",
   "source": [
    "## Задание 4.3.5"
   ],
   "metadata": {
    "collapsed": false
   }
  },
  {
   "cell_type": "code",
   "execution_count": 120,
   "outputs": [
    {
     "name": "stdout",
     "output_type": "stream",
     "text": [
      "-0.6669380616522619\n"
     ]
    }
   ],
   "source": [
    "x = int(input(\"Enter x:\"))\n",
    "y = int(input(\"Enter y:\"))\n",
    "taskToAccomplish = input(\"Enter thing you want to do:\")\n",
    "if taskToAccomplish == \"+\":\n",
    "    print(x + y)\n",
    "elif taskToAccomplish == \"-\":\n",
    "    print(x - y)\n",
    "elif taskToAccomplish == \"*\":\n",
    "    print(x * y)\n",
    "elif taskToAccomplish == \"/\":\n",
    "    print(x / y)\n",
    "elif taskToAccomplish == \"1\":\n",
    "    print(m.pow(m.e, x + y))\n",
    "elif taskToAccomplish == \"2\":\n",
    "    print(m.sin(x + y))\n",
    "elif taskToAccomplish == \"3\":\n",
    "    print(m.cos(x + y))\n",
    "elif taskToAccomplish == \"4\":\n",
    "    print(x ** y)\n"
   ],
   "metadata": {
    "collapsed": false
   }
  }
 ],
 "metadata": {
  "kernelspec": {
   "display_name": "Python 3",
   "language": "python",
   "name": "python3"
  },
  "language_info": {
   "codemirror_mode": {
    "name": "ipython",
    "version": 2
   },
   "file_extension": ".py",
   "mimetype": "text/x-python",
   "name": "python",
   "nbconvert_exporter": "python",
   "pygments_lexer": "ipython2",
   "version": "2.7.6"
  }
 },
 "nbformat": 4,
 "nbformat_minor": 0
}
