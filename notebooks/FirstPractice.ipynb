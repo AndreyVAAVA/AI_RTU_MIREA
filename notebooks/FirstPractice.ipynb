{
 "cells": [
  {
   "cell_type": "markdown",
   "source": [
    "## Задание 1.3"
   ],
   "metadata": {
    "collapsed": false
   }
  },
  {
   "cell_type": "code",
   "execution_count": 15,
   "outputs": [
    {
     "name": "stdout",
     "output_type": "stream",
     "text": [
      "True | <class 'bool'> \n",
      " {8, 1, 3, 7} | <class 'set'> \n",
      " {2, 4, 5, 10, 'apple'} | <class 'set'> \n",
      " set() | <class 'set'> \n",
      " ('Антонова Антонина', 34, 'ж') | <class 'tuple'> \n",
      " <class 'type'> | <class 'type'> \n",
      " [1, 'title', 2, 'content'] | <class 'list'>\n"
     ]
    }
   ],
   "source": [
    "x = 5 >= 2\n",
    "A = {1, 3, 7, 8}\n",
    "B = {2, 4, 5, 10, 'apple'}\n",
    "C = A & B\n",
    "df = 'Антонова Антонина', 34, 'ж'\n",
    "z = type\n",
    "D = [1, 'title', 2, 'content']\n",
    "print(x, \"|\", type(x), \"\\n\", A, \"|\", type(A), \"\\n\", B, \"|\", type(B), \"\\n\", C, \"|\", type(C), \"\\n\", df, \"|\", type(df),\n",
    "      \"\\n\", z, \"|\", type(z), \"\\n\", D, \"|\", type(D))"
   ],
   "metadata": {
    "collapsed": false
   }
  },
  {
   "cell_type": "markdown",
   "source": [
    "## Задание 2.3"
   ],
   "metadata": {
    "collapsed": false
   }
  },
  {
   "cell_type": "code",
   "execution_count": 1,
   "outputs": [
    {
     "name": "stdout",
     "output_type": "stream",
     "text": [
      "[-5, 5]\n"
     ]
    }
   ],
   "source": [
    "x: int = int(input())\n",
    "print(\"[-5, 5]\" if x >= -5 and x <= 5 else \"(-infinity, -5)\" if x < -5 else \"(5, +infinity)\")"
   ],
   "metadata": {
    "collapsed": false
   }
  },
  {
   "cell_type": "markdown",
   "source": [
    "## Задание 3.3.1"
   ],
   "metadata": {
    "collapsed": false
   }
  },
  {
   "cell_type": "code",
   "execution_count": 17,
   "outputs": [
    {
     "name": "stdout",
     "output_type": "stream",
     "text": [
      "10\n",
      "7\n",
      "4\n",
      "1\n"
     ]
    }
   ],
   "source": [
    "x = 10\n",
    "while (x > 0):\n",
    "    print(x)\n",
    "    x -= 3\n"
   ],
   "metadata": {
    "collapsed": false
   }
  },
  {
   "cell_type": "markdown",
   "source": [
    "## Задание 3.3.2"
   ],
   "metadata": {
    "collapsed": false
   }
  },
  {
   "cell_type": "code",
   "execution_count": 18,
   "outputs": [
    {
     "name": "stdout",
     "output_type": "stream",
     "text": [
      "['height', 'weight', 'IQ', 'age']\n"
     ]
    }
   ],
   "source": [
    "list_str = [\"height\", \"weight\", \"IQ\", \"age\"]\n",
    "print(list_str)\n"
   ],
   "metadata": {
    "collapsed": false
   }
  },
  {
   "cell_type": "markdown",
   "source": [
    "## Задание 3.3.3"
   ],
   "metadata": {
    "collapsed": false
   }
  },
  {
   "cell_type": "code",
   "execution_count": 19,
   "outputs": [
    {
     "name": "stdout",
     "output_type": "stream",
     "text": [
      "[2, 3, 4, 5, 6, 7, 8, 9, 10, 11, 12, 13, 14, 15]\n"
     ]
    }
   ],
   "source": [
    "list_int = [*range(2, 16, 1)]\n",
    "print(list_int)\n"
   ],
   "metadata": {
    "collapsed": false
   }
  },
  {
   "cell_type": "markdown",
   "source": [
    "## Задание 3.3.4"
   ],
   "metadata": {
    "collapsed": false
   }
  },
  {
   "cell_type": "code",
   "execution_count": 20,
   "outputs": [
    {
     "name": "stdout",
     "output_type": "stream",
     "text": [
      "105\n",
      "80\n",
      "55\n",
      "30\n",
      "5\n"
     ]
    }
   ],
   "source": [
    "for i in range(105, 0, -25):\n",
    "    print(i)\n"
   ],
   "metadata": {
    "collapsed": false
   }
  },
  {
   "cell_type": "markdown",
   "source": [
    "## Задание 3.3.5"
   ],
   "metadata": {
    "collapsed": false
   }
  },
  {
   "cell_type": "code",
   "execution_count": 21,
   "outputs": [
    {
     "name": "stdout",
     "output_type": "stream",
     "text": [
      "[8, 1, 6, 3, 4, 5, 2, 7, 0, 9]\n"
     ]
    }
   ],
   "source": [
    "x = [0, 1, 2, 3, 4, 5, 6, 7, 8, 9]\n",
    "x[0::2] = x[-2::-2]\n",
    "print(x)\n"
   ],
   "metadata": {
    "collapsed": false
   }
  },
  {
   "cell_type": "markdown",
   "source": [],
   "metadata": {
    "collapsed": false
   }
  },
  {
   "cell_type": "markdown",
   "source": [
    "## Задание 4.3.1"
   ],
   "metadata": {
    "collapsed": false
   }
  },
  {
   "cell_type": "markdown",
   "source": [],
   "metadata": {
    "collapsed": false
   }
  },
  {
   "cell_type": "code",
   "execution_count": 3,
   "outputs": [
    {
     "name": "stdout",
     "output_type": "stream",
     "text": [
      "0.5804839103254477\n",
      "0.6050799736991803\n"
     ]
    },
    {
     "data": {
      "text/plain": "<matplotlib.collections.PathCollection at 0x20b3e312910>"
     },
     "execution_count": 3,
     "metadata": {},
     "output_type": "execute_result"
    },
    {
     "data": {
      "text/plain": "<Figure size 432x288 with 1 Axes>",
      "image/png": "[encoded data removed]"
     },
     "metadata": {
      "needs_background": "light"
     },
     "output_type": "display_data"
    }
   ],
   "source": [
    "import math as m\n",
    "import numpy as np\n",
    "import matplotlib.pyplot as plt\n",
    "import pandas as pd\n",
    "\n",
    "\n",
    "def f2(x: int):\n",
    "    return m.cos(x * m.pow(m.e, (m.cos(x) + m.log(x + 1))))\n",
    "\n",
    "\n",
    "arr = np.random.rand(10)\n",
    "x = np.linspace(0, 10, 10)\n",
    "print(np.average(arr))\n",
    "print(np.median(arr))\n",
    "plt.scatter(x, arr)\n"
   ],
   "metadata": {
    "collapsed": false
   }
  },
  {
   "cell_type": "markdown",
   "source": [
    "## Задание 4.3.2"
   ],
   "metadata": {
    "collapsed": false
   }
  },
  {
   "cell_type": "code",
   "execution_count": 4,
   "outputs": [
    {
     "data": {
      "text/plain": "<matplotlib.collections.PathCollection at 0x20b3eafa040>"
     },
     "execution_count": 4,
     "metadata": {},
     "output_type": "execute_result"
    },
    {
     "data": {
      "text/plain": "<Figure size 432x288 with 2 Axes>",
      "image/png": "[encoded data removed]"
     },
     "metadata": {
      "needs_background": "light"
     },
     "output_type": "display_data"
    }
   ],
   "source": [
    "def f(x: int):\n",
    "    return m.sqrt(1 + m.pow(m.e, m.sqrt(x)) + m.cos(pow(x, 2))) / (m.fabs(1 - pow(m.sin(x), 3))) + m.log(2 * x)\n",
    "\n",
    "\n",
    "arr = np.array([f(x) for x in range(1, 11)])\n",
    "x = np.linspace(1, 11, 10)\n",
    "plt.subplot(1, 2, 1)\n",
    "plt.plot(x, arr)\n",
    "plt.subplot(1, 2, 2)\n",
    "plt.scatter(x[:5], arr[:5])"
   ],
   "metadata": {
    "collapsed": false
   }
  },
  {
   "cell_type": "markdown",
   "source": [
    "## Задание 4.3.3"
   ],
   "metadata": {
    "collapsed": false
   }
  },
  {
   "cell_type": "code",
   "execution_count": 24,
   "outputs": [
    {
     "name": "stdout",
     "output_type": "stream",
     "text": [
      "0.5749662478050367\n",
      "0.6001840439955298\n"
     ]
    },
    {
     "data": {
      "text/plain": "<matplotlib.collections.PathCollection at 0x7f65d60a5a60>"
     },
     "execution_count": 24,
     "metadata": {},
     "output_type": "execute_result"
    },
    {
     "data": {
      "text/plain": "<Figure size 432x288 with 1 Axes>",
      "image/png": "[encoded data removed]"
     },
     "metadata": {
      "needs_background": "light"
     },
     "output_type": "display_data"
    }
   ],
   "source": [
    "def f2(x: int):\n",
    "    return m.cos(x * m.pow(m.e, (m.cos(x) + m.log(x + 1))))\n",
    "\n",
    "\n",
    "arr = np.random.rand(10)\n",
    "x = np.linspace(0, 10, 10)\n",
    "print(np.average(arr))\n",
    "print(np.median(arr))\n",
    "plt.scatter(x, arr)\n"
   ],
   "metadata": {
    "collapsed": false
   }
  },
  {
   "cell_type": "markdown",
   "source": [
    "## Задание 4.3.4"
   ],
   "metadata": {
    "collapsed": false
   }
  },
  {
   "cell_type": "code",
   "execution_count": 25,
   "outputs": [
    {
     "data": {
      "text/plain": "<Figure size 432x288 with 9 Axes>",
      "image/png": "[encoded data removed]"
     },
     "metadata": {
      "needs_background": "light"
     },
     "output_type": "display_data"
    }
   ],
   "source": [
    "## I masked path, so no one can one my own home pc path\n",
    "df = pd.read_csv(\"AAPL.csv\")\n",
    "x = np.linspace(1, 12, df.Open.size)\n",
    "fig, ax = plt.subplots(nrows=3, ncols=3)\n",
    "ax[0, 0].plot(x, df.Open)\n",
    "ax[0, 1].plot(x, df.Close)\n",
    "ax[0, 2].plot(x, df.Volume)\n",
    "df1 = pd.read_csv(\"GOOG.csv\")\n",
    "x1 = np.linspace(1, 12, df1.Open.size)\n",
    "ax[1, 0].plot(x1, df1.Open)\n",
    "ax[1, 1].plot(x1, df1.Close)\n",
    "ax[1, 2].plot(x1, df1.Volume)\n",
    "df2 = pd.read_csv(\"MSFT.csv\")\n",
    "x2 = np.linspace(1, 12, df2.Open.size)\n",
    "ax[2, 0].plot(x2, df2.Open)\n",
    "ax[2, 1].plot(x2, df2.Close)\n",
    "ax[2, 2].plot(x2, df2.Volume)\n",
    "plt.show()\n"
   ],
   "metadata": {
    "collapsed": false
   }
  },
  {
   "cell_type": "markdown",
   "source": [
    "## Задание 4.3.5"
   ],
   "metadata": {
    "collapsed": false
   }
  },
  {
   "cell_type": "code",
   "execution_count": 6,
   "outputs": [
    {
     "name": "stdout",
     "output_type": "stream",
     "text": [
      "-0.9880316240928618\n"
     ]
    }
   ],
   "source": [
    "x = int(input(\"Enter x:\"))\n",
    "y = int(input(\"Enter y:\"))\n",
    "taskToAccomplish = input(\"Enter thing you want to do:\")\n",
    "if taskToAccomplish == \"+\":\n",
    "    print(x + y)\n",
    "elif taskToAccomplish == \"-\":\n",
    "    print(x - y)\n",
    "elif taskToAccomplish == \"*\":\n",
    "    print(x * y)\n",
    "elif taskToAccomplish == \"/\":\n",
    "    print(x / y)\n",
    "elif taskToAccomplish == \"1\":\n",
    "    print(m.pow(m.e, x + y))\n",
    "elif taskToAccomplish == \"2\":\n",
    "    print(m.sin(x + y))\n",
    "elif taskToAccomplish == \"3\":\n",
    "    print(m.cos(x + y))\n",
    "elif taskToAccomplish == \"4\":\n",
    "    print(x ** y)\n"
   ],
   "metadata": {
    "collapsed": false
   }
  },
  {
   "cell_type": "code",
   "execution_count": 2,
   "outputs": [
    {
     "data": {
      "text/plain": "<Figure size 432x288 with 1 Axes>",
      "image/png": "[encoded data removed]"
     },
     "metadata": {},
     "output_type": "display_data"
    }
   ],
   "source": [
    "import math as m\n",
    "import numpy as np\n",
    "import matplotlib.pyplot as plt\n",
    "import pandas as pd\n",
    "latinY= np.array([0.020483469, 21.360573, 10.531568, 14.224, 8.346321, 6.901362, 5.88324, 5.361668])\n",
    "latinX = np.array([15*0, 15*0.15, 15*0.3, 15*0.45, 15*0.6, 15*0.75, 15*0.9, 15*1])\n",
    "plt.plot(latinX, latinY)\n",
    "plt.axline((0, latinY[1]), (latinX[1], latinY[1]))\n",
    "plt.xlabel(\"R, Ом\")\n",
    "plt.ylabel(\"P, Вт\")\n",
    "plt.show()"
   ],
   "metadata": {
    "collapsed": false
   }
  },
  {
   "cell_type": "code",
   "execution_count": 15,
   "outputs": [
    {
     "data": {
      "text/plain": "<Figure size 432x288 with 1 Axes>",
      "image/png": "[encoded data removed]"
     },
     "metadata": {},
     "output_type": "display_data"
    }
   ],
   "source": [
    "phi_b = 0\n",
    "phi_a = 8.965517241\n",
    "phi_c = 1.034482759\n",
    "phi_d = 0.9655172414\n",
    "R = 15\n",
    "arr = [phi_b, phi_a, phi_c, phi_d, phi_b]\n",
    "arr_symb = [\"b\", \"a\", \"c\", \"d\", \"b\"]\n",
    "arr_R = [0, R, R, R+1.125+3, R+1.125+3+3]\n",
    "plt.plot(arr_R, arr, marker='o')\n",
    "plt.xlabel(\"R, Ом\")\n",
    "plt.ylabel(\"\\u03C6, В\")\n",
    "plt.show()"
   ],
   "metadata": {
    "collapsed": false
   }
  },
  {
   "cell_type": "code",
   "execution_count": 17,
   "outputs": [
    {
     "data": {
      "text/plain": "<Figure size 432x288 with 1 Axes>",
      "image/png": "[encoded data removed]"
     },
     "metadata": {},
     "output_type": "display_data"
    }
   ],
   "source": [
    "phi_b = 0\n",
    "phi_a = 8.965517241\n",
    "phi_c = 1.034482759\n",
    "phi_d = 0.9655172414\n",
    "R = 15\n",
    "arr = [phi_b, phi_d, phi_a, phi_c, phi_b]\n",
    "arr_symb = [\"b\", \"d\", \"a\", \"c\", \"b\"]\n",
    "arr_R = [0, 3, 3, 3, 3+1.125]\n",
    "plt.plot(arr_R, arr, marker='o')\n",
    "plt.xlabel(\"R, Ом\")\n",
    "plt.ylabel(\"\\u03C6, В\")\n",
    "plt.show()"
   ],
   "metadata": {
    "collapsed": false
   }
  },
  {
   "cell_type": "code",
   "execution_count": 18,
   "outputs": [
    {
     "data": {
      "text/plain": "<Figure size 432x288 with 1 Axes>",
      "image/png": "[encoded data removed]"
     },
     "metadata": {},
     "output_type": "display_data"
    }
   ],
   "source": [
    "phi_b = 0\n",
    "phi_a = 8.965517241\n",
    "phi_c = -1.034482759\n",
    "phi_d = 0.9655172414\n",
    "R = 15\n",
    "arr = [phi_b, phi_d, phi_a, phi_c, phi_b]\n",
    "arr_symb = [\"b\", \"d\", \"a\", \"c\", \"b\"]\n",
    "arr_R = [0, 3, 3, 3, 3+1.125]\n",
    "plt.plot(arr_R, arr, marker='o')\n",
    "plt.xlabel(\"R, Ом\")\n",
    "plt.ylabel(\"\\u03C6, В\")\n",
    "plt.show()"
   ],
   "metadata": {
    "collapsed": false
   }
  }
 ],
 "metadata": {
  "kernelspec": {
   "display_name": "Python 3",
   "language": "python",
   "name": "python3"
  },
  "language_info": {
   "codemirror_mode": {
    "name": "ipython",
    "version": 2
   },
   "file_extension": ".py",
   "mimetype": "text/x-python",
   "name": "python",
   "nbconvert_exporter": "python",
   "pygments_lexer": "ipython2",
   "version": "2.7.6"
  }
 },
 "nbformat": 4,
 "nbformat_minor": 0
}
