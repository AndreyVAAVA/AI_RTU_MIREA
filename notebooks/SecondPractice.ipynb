{
 "cells": [
  {
   "cell_type": "markdown",
   "source": [
    "## Задание 1.3.1"
   ],
   "metadata": {
    "collapsed": false
   }
  },
  {
   "cell_type": "code",
   "execution_count": 46,
   "outputs": [
    {
     "name": "stdout",
     "output_type": "stream",
     "text": [
      "[[1. 0. 1. 0. 1. 0. 1. 0.]\n",
      " [0. 1. 0. 1. 0. 1. 0. 1.]\n",
      " [1. 0. 1. 0. 1. 0. 1. 0.]\n",
      " [0. 1. 0. 1. 0. 1. 0. 1.]\n",
      " [1. 0. 1. 0. 1. 0. 1. 0.]\n",
      " [0. 1. 0. 1. 0. 1. 0. 1.]\n",
      " [1. 0. 1. 0. 1. 0. 1. 0.]\n",
      " [0. 1. 0. 1. 0. 1. 0. 1.]]\n"
     ]
    }
   ],
   "source": [
    "import numpy as np\n",
    "arr = np.zeros(8*8).reshape(8, 8)\n",
    "arr[::2, ::2] += np.ones(4)\n",
    "arr[1::2, 1::2] += np.ones(4)\n",
    "print(arr)"
   ],
   "metadata": {
    "collapsed": false
   }
  },
  {
   "cell_type": "markdown",
   "source": [
    "## Задание 1.3.2"
   ],
   "metadata": {
    "collapsed": false
   }
  },
  {
   "cell_type": "code",
   "execution_count": 67,
   "outputs": [
    {
     "name": "stdout",
     "output_type": "stream",
     "text": [
      "[[0 1 2 3 4]\n",
      " [0 1 2 3 4]\n",
      " [0 1 2 3 4]\n",
      " [0 1 2 3 4]\n",
      " [0 1 2 3 4]]\n"
     ]
    }
   ],
   "source": [
    "arr = np.arange(5*5).reshape(5, 5)\n",
    "for i in range(0, 5):\n",
    "    arr[i] = np.arange(5)\n",
    "print(arr)"
   ],
   "metadata": {
    "collapsed": false
   }
  },
  {
   "cell_type": "markdown",
   "source": [
    "## Задание 1.3.3"
   ],
   "metadata": {
    "collapsed": false
   }
  },
  {
   "cell_type": "code",
   "execution_count": 68,
   "outputs": [
    {
     "name": "stdout",
     "output_type": "stream",
     "text": [
      "[[[0.26041094 0.05307374 0.3233831 ]\n",
      "  [0.21673484 0.34191368 0.37982688]\n",
      "  [0.5596488  0.07791364 0.50781239]]\n",
      "\n",
      " [[0.12372471 0.31193327 0.17157801]\n",
      "  [0.4850874  0.49368175 0.28658908]\n",
      "  [0.98428291 0.21803274 0.2131813 ]]\n",
      "\n",
      " [[0.52770556 0.85430971 0.88352738]\n",
      "  [0.51585343 0.75274836 0.57593197]\n",
      "  [0.38775553 0.84230367 0.11706459]]]\n"
     ]
    }
   ],
   "source": [
    "arr = np.random.random((3, 3, 3))\n",
    "print(arr)"
   ],
   "metadata": {
    "collapsed": false
   }
  },
  {
   "cell_type": "markdown",
   "source": [
    "## Задание 1.3.4"
   ],
   "metadata": {
    "collapsed": false
   }
  },
  {
   "cell_type": "code",
   "execution_count": 61,
   "outputs": [
    {
     "name": "stdout",
     "output_type": "stream",
     "text": [
      "[[1. 1. 1. 1. 1.]\n",
      " [1. 0. 0. 0. 1.]\n",
      " [1. 0. 0. 0. 1.]\n",
      " [1. 0. 0. 0. 1.]\n",
      " [1. 0. 0. 0. 1.]\n",
      " [1. 0. 0. 0. 1.]\n",
      " [1. 0. 0. 0. 1.]\n",
      " [1. 0. 0. 0. 1.]\n",
      " [1. 0. 0. 0. 1.]\n",
      " [1. 1. 1. 1. 1.]]\n"
     ]
    }
   ],
   "source": [
    "size1 = int(input(\"Enter first matrix size:\"))\n",
    "size2 = int(input(\"Enter second matrix size:\"))\n",
    "arr = np.ones(size1*size2).reshape(size1, size2)\n",
    "arr[1:size1-1:1, 1:size2-1:1] = 0\n",
    "print(arr)"
   ],
   "metadata": {
    "collapsed": false
   }
  },
  {
   "cell_type": "markdown",
   "source": [
    "## Задание 1.3.5"
   ],
   "metadata": {
    "collapsed": false
   }
  },
  {
   "cell_type": "code",
   "execution_count": 70,
   "outputs": [
    {
     "name": "stdout",
     "output_type": "stream",
     "text": [
      "[0.9874225  0.84290518 0.80880816 0.80595994 0.73234506 0.67620821\n",
      " 0.6383582  0.60893164 0.52561612 0.46495978 0.41896491 0.35062341\n",
      " 0.33833673 0.28162045 0.23201063 0.21245389 0.1977669  0.14479533\n",
      " 0.14035754 0.06313219]\n"
     ]
    }
   ],
   "source": [
    "size = int(input(\"Enter array size:\"))\n",
    "arr = np.random.random(size)\n",
    "arr[::-1].sort()\n",
    "print(arr)"
   ],
   "metadata": {
    "collapsed": false
   }
  },
  {
   "cell_type": "markdown",
   "source": [
    "## Задание 1.3.6"
   ],
   "metadata": {
    "collapsed": false
   }
  },
  {
   "cell_type": "code",
   "execution_count": 71,
   "outputs": [
    {
     "name": "stdout",
     "output_type": "stream",
     "text": [
      "matrix form (10, 12)\n",
      "matrix size 120\n",
      "matrix amount of dims element 2\n"
     ]
    }
   ],
   "source": [
    "size1 = int(input(\"Enter first matrix size:\"))\n",
    "size2 = int(input(\"Enter second matrix size:\"))\n",
    "arr = np.arange(size1*size2).reshape(size1, size2)\n",
    "print(\"matrix form\", arr.shape)\n",
    "print(\"matrix size\", arr.size)\n",
    "print(\"matrix amount of dims element\", arr.ndim)"
   ],
   "metadata": {
    "collapsed": false
   }
  },
  {
   "cell_type": "markdown",
   "source": [
    "## Задание 2.3.1"
   ],
   "metadata": {
    "collapsed": false
   }
  },
  {
   "cell_type": "code",
   "execution_count": 72,
   "outputs": [
    {
     "data": {
      "text/plain": "2.0"
     },
     "execution_count": 72,
     "metadata": {},
     "output_type": "execute_result"
    }
   ],
   "source": [
    "import pandas as pd\n",
    "a = pd.Series([2, 4, 6, 8])\n",
    "b = pd.Series([1, 3, 5, 7])\n",
    "sum((a - b)**2)**.5"
   ],
   "metadata": {
    "collapsed": false
   }
  },
  {
   "cell_type": "markdown",
   "source": [
    "## Задание 2.3.2"
   ],
   "metadata": {
    "collapsed": false
   }
  },
  {
   "cell_type": "code",
   "execution_count": 81,
   "outputs": [
    {
     "data": {
      "text/plain": "         1      2    3    4   5  6   7    8   9   10  11  12  13  14  15  16  \\\n0    0.271  0.328   74  161  22  6  12   58  49  133  23  17   1   1   0   0   \n1    0.264  0.318   24   48   7  0   1   22  15   18   0   7   0   0   0   0   \n2    0.251  0.338  101  141  35  3  32  105  71  104  34   6   0   0   1   0   \n3    0.224  0.274   28   94  21  1   1   44  27   54   2   7   1   1   0   0   \n4    0.206  0.262   14   51  18  1   1   28  17   26   0   3   1   1   0   0   \n..     ...    ...  ...  ...  .. ..  ..  ...  ..  ...  ..  ..  ..  ..  ..  ..   \n332  0.269  0.303   32   58  12  1  13   33  11   51   1   2   0   0   0   0   \n333  0.288  0.366   24   47   7  0   7   24  18   23   2   3   0   0   0   0   \n334  0.208  0.265   12   35  11  1   0   15  14   30   2   6   0   0   0   0   \n335  0.290  0.349   59  141  30  2  16   64  42  102  14   6   1   0   0   0   \n336  0.225  0.312   37   64  12  0  17   48  36   80   1   0   1   0   0   0   \n\n     salary  \n0       109  \n1       160  \n2      2700  \n3       550  \n4       300  \n..      ...  \n332     140  \n333     525  \n334     365  \n335     990  \n336    2167  \n\n[337 rows x 17 columns]",
      "text/html": "<div>\n<style scoped>\n    .dataframe tbody tr th:only-of-type {\n        vertical-align: middle;\n    }\n\n    .dataframe tbody tr th {\n        vertical-align: top;\n    }\n\n    .dataframe thead th {\n        text-align: right;\n    }\n</style>\n<table border=\"1\" class=\"dataframe\">\n  <thead>\n    <tr style=\"text-align: right;\">\n      <th></th>\n      <th>1</th>\n      <th>2</th>\n      <th>3</th>\n      <th>4</th>\n      <th>5</th>\n      <th>6</th>\n      <th>7</th>\n      <th>8</th>\n      <th>9</th>\n      <th>10</th>\n      <th>11</th>\n      <th>12</th>\n      <th>13</th>\n      <th>14</th>\n      <th>15</th>\n      <th>16</th>\n      <th>salary</th>\n    </tr>\n  </thead>\n  <tbody>\n    <tr>\n      <th>0</th>\n      <td>0.271</td>\n      <td>0.328</td>\n      <td>74</td>\n      <td>161</td>\n      <td>22</td>\n      <td>6</td>\n      <td>12</td>\n      <td>58</td>\n      <td>49</td>\n      <td>133</td>\n      <td>23</td>\n      <td>17</td>\n      <td>1</td>\n      <td>1</td>\n      <td>0</td>\n      <td>0</td>\n      <td>109</td>\n    </tr>\n    <tr>\n      <th>1</th>\n      <td>0.264</td>\n      <td>0.318</td>\n      <td>24</td>\n      <td>48</td>\n      <td>7</td>\n      <td>0</td>\n      <td>1</td>\n      <td>22</td>\n      <td>15</td>\n      <td>18</td>\n      <td>0</td>\n      <td>7</td>\n      <td>0</td>\n      <td>0</td>\n      <td>0</td>\n      <td>0</td>\n      <td>160</td>\n    </tr>\n    <tr>\n      <th>2</th>\n      <td>0.251</td>\n      <td>0.338</td>\n      <td>101</td>\n      <td>141</td>\n      <td>35</td>\n      <td>3</td>\n      <td>32</td>\n      <td>105</td>\n      <td>71</td>\n      <td>104</td>\n      <td>34</td>\n      <td>6</td>\n      <td>0</td>\n      <td>0</td>\n      <td>1</td>\n      <td>0</td>\n      <td>2700</td>\n    </tr>\n    <tr>\n      <th>3</th>\n      <td>0.224</td>\n      <td>0.274</td>\n      <td>28</td>\n      <td>94</td>\n      <td>21</td>\n      <td>1</td>\n      <td>1</td>\n      <td>44</td>\n      <td>27</td>\n      <td>54</td>\n      <td>2</td>\n      <td>7</td>\n      <td>1</td>\n      <td>1</td>\n      <td>0</td>\n      <td>0</td>\n      <td>550</td>\n    </tr>\n    <tr>\n      <th>4</th>\n      <td>0.206</td>\n      <td>0.262</td>\n      <td>14</td>\n      <td>51</td>\n      <td>18</td>\n      <td>1</td>\n      <td>1</td>\n      <td>28</td>\n      <td>17</td>\n      <td>26</td>\n      <td>0</td>\n      <td>3</td>\n      <td>1</td>\n      <td>1</td>\n      <td>0</td>\n      <td>0</td>\n      <td>300</td>\n    </tr>\n    <tr>\n      <th>...</th>\n      <td>...</td>\n      <td>...</td>\n      <td>...</td>\n      <td>...</td>\n      <td>...</td>\n      <td>...</td>\n      <td>...</td>\n      <td>...</td>\n      <td>...</td>\n      <td>...</td>\n      <td>...</td>\n      <td>...</td>\n      <td>...</td>\n      <td>...</td>\n      <td>...</td>\n      <td>...</td>\n      <td>...</td>\n    </tr>\n    <tr>\n      <th>332</th>\n      <td>0.269</td>\n      <td>0.303</td>\n      <td>32</td>\n      <td>58</td>\n      <td>12</td>\n      <td>1</td>\n      <td>13</td>\n      <td>33</td>\n      <td>11</td>\n      <td>51</td>\n      <td>1</td>\n      <td>2</td>\n      <td>0</td>\n      <td>0</td>\n      <td>0</td>\n      <td>0</td>\n      <td>140</td>\n    </tr>\n    <tr>\n      <th>333</th>\n      <td>0.288</td>\n      <td>0.366</td>\n      <td>24</td>\n      <td>47</td>\n      <td>7</td>\n      <td>0</td>\n      <td>7</td>\n      <td>24</td>\n      <td>18</td>\n      <td>23</td>\n      <td>2</td>\n      <td>3</td>\n      <td>0</td>\n      <td>0</td>\n      <td>0</td>\n      <td>0</td>\n      <td>525</td>\n    </tr>\n    <tr>\n      <th>334</th>\n      <td>0.208</td>\n      <td>0.265</td>\n      <td>12</td>\n      <td>35</td>\n      <td>11</td>\n      <td>1</td>\n      <td>0</td>\n      <td>15</td>\n      <td>14</td>\n      <td>30</td>\n      <td>2</td>\n      <td>6</td>\n      <td>0</td>\n      <td>0</td>\n      <td>0</td>\n      <td>0</td>\n      <td>365</td>\n    </tr>\n    <tr>\n      <th>335</th>\n      <td>0.290</td>\n      <td>0.349</td>\n      <td>59</td>\n      <td>141</td>\n      <td>30</td>\n      <td>2</td>\n      <td>16</td>\n      <td>64</td>\n      <td>42</td>\n      <td>102</td>\n      <td>14</td>\n      <td>6</td>\n      <td>1</td>\n      <td>0</td>\n      <td>0</td>\n      <td>0</td>\n      <td>990</td>\n    </tr>\n    <tr>\n      <th>336</th>\n      <td>0.225</td>\n      <td>0.312</td>\n      <td>37</td>\n      <td>64</td>\n      <td>12</td>\n      <td>0</td>\n      <td>17</td>\n      <td>48</td>\n      <td>36</td>\n      <td>80</td>\n      <td>1</td>\n      <td>0</td>\n      <td>1</td>\n      <td>0</td>\n      <td>0</td>\n      <td>0</td>\n      <td>2167</td>\n    </tr>\n  </tbody>\n</table>\n<p>337 rows × 17 columns</p>\n</div>"
     },
     "execution_count": 81,
     "metadata": {},
     "output_type": "execute_result"
    }
   ],
   "source": [
    "## I masked path, so no one can one my own home pc path\n",
    "df = pd.read_csv(\"baseball.csv\")\n",
    "df"
   ],
   "metadata": {
    "collapsed": false
   }
  },
  {
   "cell_type": "markdown",
   "source": [
    "## Задание 2.3.3"
   ],
   "metadata": {
    "collapsed": false
   }
  },
  {
   "cell_type": "code",
   "execution_count": 74,
   "outputs": [
    {
     "data": {
      "text/plain": "       1      2   3    4   5  6   7   8   9   10  11  12  13  14  15  16  \\\n0  0.271  0.328  74  161  22  6  12  58  49  133  23  17   1   1   0   0   \n1  0.264  0.318  24   48   7  0   1  22  15   18   0   7   0   0   0   0   \n\n   salary  \n0     109  \n1     160  ",
      "text/html": "<div>\n<style scoped>\n    .dataframe tbody tr th:only-of-type {\n        vertical-align: middle;\n    }\n\n    .dataframe tbody tr th {\n        vertical-align: top;\n    }\n\n    .dataframe thead th {\n        text-align: right;\n    }\n</style>\n<table border=\"1\" class=\"dataframe\">\n  <thead>\n    <tr style=\"text-align: right;\">\n      <th></th>\n      <th>1</th>\n      <th>2</th>\n      <th>3</th>\n      <th>4</th>\n      <th>5</th>\n      <th>6</th>\n      <th>7</th>\n      <th>8</th>\n      <th>9</th>\n      <th>10</th>\n      <th>11</th>\n      <th>12</th>\n      <th>13</th>\n      <th>14</th>\n      <th>15</th>\n      <th>16</th>\n      <th>salary</th>\n    </tr>\n  </thead>\n  <tbody>\n    <tr>\n      <th>0</th>\n      <td>0.271</td>\n      <td>0.328</td>\n      <td>74</td>\n      <td>161</td>\n      <td>22</td>\n      <td>6</td>\n      <td>12</td>\n      <td>58</td>\n      <td>49</td>\n      <td>133</td>\n      <td>23</td>\n      <td>17</td>\n      <td>1</td>\n      <td>1</td>\n      <td>0</td>\n      <td>0</td>\n      <td>109</td>\n    </tr>\n    <tr>\n      <th>1</th>\n      <td>0.264</td>\n      <td>0.318</td>\n      <td>24</td>\n      <td>48</td>\n      <td>7</td>\n      <td>0</td>\n      <td>1</td>\n      <td>22</td>\n      <td>15</td>\n      <td>18</td>\n      <td>0</td>\n      <td>7</td>\n      <td>0</td>\n      <td>0</td>\n      <td>0</td>\n      <td>0</td>\n      <td>160</td>\n    </tr>\n  </tbody>\n</table>\n</div>"
     },
     "execution_count": 74,
     "metadata": {},
     "output_type": "execute_result"
    }
   ],
   "source": [
    "df.head(2)"
   ],
   "metadata": {
    "collapsed": false
   }
  },
  {
   "cell_type": "code",
   "execution_count": 75,
   "outputs": [
    {
     "data": {
      "text/plain": "         1      2   3    4   5  6   7   8   9   10  11  12  13  14  15  16  \\\n334  0.208  0.265  12   35  11  1   0  15  14   30   2   6   0   0   0   0   \n335  0.290  0.349  59  141  30  2  16  64  42  102  14   6   1   0   0   0   \n336  0.225  0.312  37   64  12  0  17  48  36   80   1   0   1   0   0   0   \n\n     salary  \n334     365  \n335     990  \n336    2167  ",
      "text/html": "<div>\n<style scoped>\n    .dataframe tbody tr th:only-of-type {\n        vertical-align: middle;\n    }\n\n    .dataframe tbody tr th {\n        vertical-align: top;\n    }\n\n    .dataframe thead th {\n        text-align: right;\n    }\n</style>\n<table border=\"1\" class=\"dataframe\">\n  <thead>\n    <tr style=\"text-align: right;\">\n      <th></th>\n      <th>1</th>\n      <th>2</th>\n      <th>3</th>\n      <th>4</th>\n      <th>5</th>\n      <th>6</th>\n      <th>7</th>\n      <th>8</th>\n      <th>9</th>\n      <th>10</th>\n      <th>11</th>\n      <th>12</th>\n      <th>13</th>\n      <th>14</th>\n      <th>15</th>\n      <th>16</th>\n      <th>salary</th>\n    </tr>\n  </thead>\n  <tbody>\n    <tr>\n      <th>334</th>\n      <td>0.208</td>\n      <td>0.265</td>\n      <td>12</td>\n      <td>35</td>\n      <td>11</td>\n      <td>1</td>\n      <td>0</td>\n      <td>15</td>\n      <td>14</td>\n      <td>30</td>\n      <td>2</td>\n      <td>6</td>\n      <td>0</td>\n      <td>0</td>\n      <td>0</td>\n      <td>0</td>\n      <td>365</td>\n    </tr>\n    <tr>\n      <th>335</th>\n      <td>0.290</td>\n      <td>0.349</td>\n      <td>59</td>\n      <td>141</td>\n      <td>30</td>\n      <td>2</td>\n      <td>16</td>\n      <td>64</td>\n      <td>42</td>\n      <td>102</td>\n      <td>14</td>\n      <td>6</td>\n      <td>1</td>\n      <td>0</td>\n      <td>0</td>\n      <td>0</td>\n      <td>990</td>\n    </tr>\n    <tr>\n      <th>336</th>\n      <td>0.225</td>\n      <td>0.312</td>\n      <td>37</td>\n      <td>64</td>\n      <td>12</td>\n      <td>0</td>\n      <td>17</td>\n      <td>48</td>\n      <td>36</td>\n      <td>80</td>\n      <td>1</td>\n      <td>0</td>\n      <td>1</td>\n      <td>0</td>\n      <td>0</td>\n      <td>0</td>\n      <td>2167</td>\n    </tr>\n  </tbody>\n</table>\n</div>"
     },
     "execution_count": 75,
     "metadata": {},
     "output_type": "execute_result"
    }
   ],
   "source": [
    "df.tail(3)"
   ],
   "metadata": {
    "collapsed": false
   }
  },
  {
   "cell_type": "code",
   "execution_count": 76,
   "outputs": [
    {
     "data": {
      "text/plain": "(337, 17)"
     },
     "execution_count": 76,
     "metadata": {},
     "output_type": "execute_result"
    }
   ],
   "source": [
    "df.shape"
   ],
   "metadata": {
    "collapsed": false
   }
  },
  {
   "cell_type": "code",
   "execution_count": 77,
   "outputs": [
    {
     "data": {
      "text/plain": "                1           2           3           4           5           6  \\\ncount  337.000000  337.000000  337.000000  337.000000  337.000000  337.000000   \nmean     0.257825    0.323973   46.697329   92.833828   16.673591    2.338279   \nstd      0.039546    0.047132   29.020166   51.896322   10.452001    2.543336   \nmin      0.063000    0.063000    0.000000    1.000000    0.000000    0.000000   \n25%      0.238000    0.297000   22.000000   51.000000    9.000000    0.000000   \n50%      0.260000    0.323000   41.000000   91.000000   15.000000    2.000000   \n75%      0.281000    0.354000   69.000000  136.000000   23.000000    3.000000   \nmax      0.457000    0.486000  133.000000  216.000000   49.000000   15.000000   \n\n                7           8           9          10          11          12  \\\ncount  337.000000  337.000000  337.000000  337.000000  337.000000  337.000000   \nmean     9.097923   44.020772   35.017804   56.706231    8.246291    6.771513   \nstd      9.289934   29.559406   24.842474   33.828784   11.664782    5.927490   \nmin      0.000000    0.000000    0.000000    1.000000    0.000000    0.000000   \n25%      2.000000   21.000000   15.000000   31.000000    1.000000    3.000000   \n50%      6.000000   39.000000   30.000000   49.000000    4.000000    5.000000   \n75%     15.000000   66.000000   49.000000   78.000000   11.000000    9.000000   \nmax     44.000000  133.000000  138.000000  175.000000   76.000000   31.000000   \n\n               13          14          15          16       salary  \ncount  337.000000  337.000000  337.000000  337.000000   337.000000  \nmean     0.397626    0.115727    0.192878    0.029674  1248.528190  \nstd      0.490135    0.320373    0.395145    0.169938  1240.013309  \nmin      0.000000    0.000000    0.000000    0.000000   109.000000  \n25%      0.000000    0.000000    0.000000    0.000000   230.000000  \n50%      0.000000    0.000000    0.000000    0.000000   740.000000  \n75%      1.000000    0.000000    0.000000    0.000000  2150.000000  \nmax      1.000000    1.000000    1.000000    1.000000  6100.000000  ",
      "text/html": "<div>\n<style scoped>\n    .dataframe tbody tr th:only-of-type {\n        vertical-align: middle;\n    }\n\n    .dataframe tbody tr th {\n        vertical-align: top;\n    }\n\n    .dataframe thead th {\n        text-align: right;\n    }\n</style>\n<table border=\"1\" class=\"dataframe\">\n  <thead>\n    <tr style=\"text-align: right;\">\n      <th></th>\n      <th>1</th>\n      <th>2</th>\n      <th>3</th>\n      <th>4</th>\n      <th>5</th>\n      <th>6</th>\n      <th>7</th>\n      <th>8</th>\n      <th>9</th>\n      <th>10</th>\n      <th>11</th>\n      <th>12</th>\n      <th>13</th>\n      <th>14</th>\n      <th>15</th>\n      <th>16</th>\n      <th>salary</th>\n    </tr>\n  </thead>\n  <tbody>\n    <tr>\n      <th>count</th>\n      <td>337.000000</td>\n      <td>337.000000</td>\n      <td>337.000000</td>\n      <td>337.000000</td>\n      <td>337.000000</td>\n      <td>337.000000</td>\n      <td>337.000000</td>\n      <td>337.000000</td>\n      <td>337.000000</td>\n      <td>337.000000</td>\n      <td>337.000000</td>\n      <td>337.000000</td>\n      <td>337.000000</td>\n      <td>337.000000</td>\n      <td>337.000000</td>\n      <td>337.000000</td>\n      <td>337.000000</td>\n    </tr>\n    <tr>\n      <th>mean</th>\n      <td>0.257825</td>\n      <td>0.323973</td>\n      <td>46.697329</td>\n      <td>92.833828</td>\n      <td>16.673591</td>\n      <td>2.338279</td>\n      <td>9.097923</td>\n      <td>44.020772</td>\n      <td>35.017804</td>\n      <td>56.706231</td>\n      <td>8.246291</td>\n      <td>6.771513</td>\n      <td>0.397626</td>\n      <td>0.115727</td>\n      <td>0.192878</td>\n      <td>0.029674</td>\n      <td>1248.528190</td>\n    </tr>\n    <tr>\n      <th>std</th>\n      <td>0.039546</td>\n      <td>0.047132</td>\n      <td>29.020166</td>\n      <td>51.896322</td>\n      <td>10.452001</td>\n      <td>2.543336</td>\n      <td>9.289934</td>\n      <td>29.559406</td>\n      <td>24.842474</td>\n      <td>33.828784</td>\n      <td>11.664782</td>\n      <td>5.927490</td>\n      <td>0.490135</td>\n      <td>0.320373</td>\n      <td>0.395145</td>\n      <td>0.169938</td>\n      <td>1240.013309</td>\n    </tr>\n    <tr>\n      <th>min</th>\n      <td>0.063000</td>\n      <td>0.063000</td>\n      <td>0.000000</td>\n      <td>1.000000</td>\n      <td>0.000000</td>\n      <td>0.000000</td>\n      <td>0.000000</td>\n      <td>0.000000</td>\n      <td>0.000000</td>\n      <td>1.000000</td>\n      <td>0.000000</td>\n      <td>0.000000</td>\n      <td>0.000000</td>\n      <td>0.000000</td>\n      <td>0.000000</td>\n      <td>0.000000</td>\n      <td>109.000000</td>\n    </tr>\n    <tr>\n      <th>25%</th>\n      <td>0.238000</td>\n      <td>0.297000</td>\n      <td>22.000000</td>\n      <td>51.000000</td>\n      <td>9.000000</td>\n      <td>0.000000</td>\n      <td>2.000000</td>\n      <td>21.000000</td>\n      <td>15.000000</td>\n      <td>31.000000</td>\n      <td>1.000000</td>\n      <td>3.000000</td>\n      <td>0.000000</td>\n      <td>0.000000</td>\n      <td>0.000000</td>\n      <td>0.000000</td>\n      <td>230.000000</td>\n    </tr>\n    <tr>\n      <th>50%</th>\n      <td>0.260000</td>\n      <td>0.323000</td>\n      <td>41.000000</td>\n      <td>91.000000</td>\n      <td>15.000000</td>\n      <td>2.000000</td>\n      <td>6.000000</td>\n      <td>39.000000</td>\n      <td>30.000000</td>\n      <td>49.000000</td>\n      <td>4.000000</td>\n      <td>5.000000</td>\n      <td>0.000000</td>\n      <td>0.000000</td>\n      <td>0.000000</td>\n      <td>0.000000</td>\n      <td>740.000000</td>\n    </tr>\n    <tr>\n      <th>75%</th>\n      <td>0.281000</td>\n      <td>0.354000</td>\n      <td>69.000000</td>\n      <td>136.000000</td>\n      <td>23.000000</td>\n      <td>3.000000</td>\n      <td>15.000000</td>\n      <td>66.000000</td>\n      <td>49.000000</td>\n      <td>78.000000</td>\n      <td>11.000000</td>\n      <td>9.000000</td>\n      <td>1.000000</td>\n      <td>0.000000</td>\n      <td>0.000000</td>\n      <td>0.000000</td>\n      <td>2150.000000</td>\n    </tr>\n    <tr>\n      <th>max</th>\n      <td>0.457000</td>\n      <td>0.486000</td>\n      <td>133.000000</td>\n      <td>216.000000</td>\n      <td>49.000000</td>\n      <td>15.000000</td>\n      <td>44.000000</td>\n      <td>133.000000</td>\n      <td>138.000000</td>\n      <td>175.000000</td>\n      <td>76.000000</td>\n      <td>31.000000</td>\n      <td>1.000000</td>\n      <td>1.000000</td>\n      <td>1.000000</td>\n      <td>1.000000</td>\n      <td>6100.000000</td>\n    </tr>\n  </tbody>\n</table>\n</div>"
     },
     "execution_count": 77,
     "metadata": {},
     "output_type": "execute_result"
    }
   ],
   "source": [
    "df.describe()"
   ],
   "metadata": {
    "collapsed": false
   }
  },
  {
   "cell_type": "code",
   "execution_count": 78,
   "outputs": [
    {
     "data": {
      "text/plain": "       1      2    3    4   5  6   7    8   9   10  11  12  13  14  15  16  \\\n1  0.264  0.318   24   48   7  0   1   22  15   18   0   7   0   0   0   0   \n2  0.251  0.338  101  141  35  3  32  105  71  104  34   6   0   0   1   0   \n3  0.224  0.274   28   94  21  1   1   44  27   54   2   7   1   1   0   0   \n\n   salary  \n1     160  \n2    2700  \n3     550  ",
      "text/html": "<div>\n<style scoped>\n    .dataframe tbody tr th:only-of-type {\n        vertical-align: middle;\n    }\n\n    .dataframe tbody tr th {\n        vertical-align: top;\n    }\n\n    .dataframe thead th {\n        text-align: right;\n    }\n</style>\n<table border=\"1\" class=\"dataframe\">\n  <thead>\n    <tr style=\"text-align: right;\">\n      <th></th>\n      <th>1</th>\n      <th>2</th>\n      <th>3</th>\n      <th>4</th>\n      <th>5</th>\n      <th>6</th>\n      <th>7</th>\n      <th>8</th>\n      <th>9</th>\n      <th>10</th>\n      <th>11</th>\n      <th>12</th>\n      <th>13</th>\n      <th>14</th>\n      <th>15</th>\n      <th>16</th>\n      <th>salary</th>\n    </tr>\n  </thead>\n  <tbody>\n    <tr>\n      <th>1</th>\n      <td>0.264</td>\n      <td>0.318</td>\n      <td>24</td>\n      <td>48</td>\n      <td>7</td>\n      <td>0</td>\n      <td>1</td>\n      <td>22</td>\n      <td>15</td>\n      <td>18</td>\n      <td>0</td>\n      <td>7</td>\n      <td>0</td>\n      <td>0</td>\n      <td>0</td>\n      <td>0</td>\n      <td>160</td>\n    </tr>\n    <tr>\n      <th>2</th>\n      <td>0.251</td>\n      <td>0.338</td>\n      <td>101</td>\n      <td>141</td>\n      <td>35</td>\n      <td>3</td>\n      <td>32</td>\n      <td>105</td>\n      <td>71</td>\n      <td>104</td>\n      <td>34</td>\n      <td>6</td>\n      <td>0</td>\n      <td>0</td>\n      <td>1</td>\n      <td>0</td>\n      <td>2700</td>\n    </tr>\n    <tr>\n      <th>3</th>\n      <td>0.224</td>\n      <td>0.274</td>\n      <td>28</td>\n      <td>94</td>\n      <td>21</td>\n      <td>1</td>\n      <td>1</td>\n      <td>44</td>\n      <td>27</td>\n      <td>54</td>\n      <td>2</td>\n      <td>7</td>\n      <td>1</td>\n      <td>1</td>\n      <td>0</td>\n      <td>0</td>\n      <td>550</td>\n    </tr>\n  </tbody>\n</table>\n</div>"
     },
     "execution_count": 78,
     "metadata": {},
     "output_type": "execute_result"
    }
   ],
   "source": [
    "df.iloc[1:4]"
   ],
   "metadata": {
    "collapsed": false
   }
  },
  {
   "cell_type": "code",
   "execution_count": 79,
   "outputs": [
    {
     "data": {
      "text/plain": "        1      2    3    4   5  6   7    8   9   10  11  12  13  14  15  16  \\\n2   0.251  0.338  101  141  35  3  32  105  71  104  34   6   0   0   1   0   \n9   0.266  0.359  115  152  32  1  44  122  78  152  26   9   1   0   0   0   \n10  0.235  0.353   39   67  10  0  11   33  48   92  14   3   1   0   0   0   \n11  0.262  0.312   45  116  25  3   4   41  26   55  11   5   0   0   1   0   \n13  0.285  0.380   96  157  30  3   3   50  83   36  35   8   1   0   0   0   \n\n    salary  \n2     2700  \n9     4300  \n10    3600  \n11    1650  \n13    2000  ",
      "text/html": "<div>\n<style scoped>\n    .dataframe tbody tr th:only-of-type {\n        vertical-align: middle;\n    }\n\n    .dataframe tbody tr th {\n        vertical-align: top;\n    }\n\n    .dataframe thead th {\n        text-align: right;\n    }\n</style>\n<table border=\"1\" class=\"dataframe\">\n  <thead>\n    <tr style=\"text-align: right;\">\n      <th></th>\n      <th>1</th>\n      <th>2</th>\n      <th>3</th>\n      <th>4</th>\n      <th>5</th>\n      <th>6</th>\n      <th>7</th>\n      <th>8</th>\n      <th>9</th>\n      <th>10</th>\n      <th>11</th>\n      <th>12</th>\n      <th>13</th>\n      <th>14</th>\n      <th>15</th>\n      <th>16</th>\n      <th>salary</th>\n    </tr>\n  </thead>\n  <tbody>\n    <tr>\n      <th>2</th>\n      <td>0.251</td>\n      <td>0.338</td>\n      <td>101</td>\n      <td>141</td>\n      <td>35</td>\n      <td>3</td>\n      <td>32</td>\n      <td>105</td>\n      <td>71</td>\n      <td>104</td>\n      <td>34</td>\n      <td>6</td>\n      <td>0</td>\n      <td>0</td>\n      <td>1</td>\n      <td>0</td>\n      <td>2700</td>\n    </tr>\n    <tr>\n      <th>9</th>\n      <td>0.266</td>\n      <td>0.359</td>\n      <td>115</td>\n      <td>152</td>\n      <td>32</td>\n      <td>1</td>\n      <td>44</td>\n      <td>122</td>\n      <td>78</td>\n      <td>152</td>\n      <td>26</td>\n      <td>9</td>\n      <td>1</td>\n      <td>0</td>\n      <td>0</td>\n      <td>0</td>\n      <td>4300</td>\n    </tr>\n    <tr>\n      <th>10</th>\n      <td>0.235</td>\n      <td>0.353</td>\n      <td>39</td>\n      <td>67</td>\n      <td>10</td>\n      <td>0</td>\n      <td>11</td>\n      <td>33</td>\n      <td>48</td>\n      <td>92</td>\n      <td>14</td>\n      <td>3</td>\n      <td>1</td>\n      <td>0</td>\n      <td>0</td>\n      <td>0</td>\n      <td>3600</td>\n    </tr>\n    <tr>\n      <th>11</th>\n      <td>0.262</td>\n      <td>0.312</td>\n      <td>45</td>\n      <td>116</td>\n      <td>25</td>\n      <td>3</td>\n      <td>4</td>\n      <td>41</td>\n      <td>26</td>\n      <td>55</td>\n      <td>11</td>\n      <td>5</td>\n      <td>0</td>\n      <td>0</td>\n      <td>1</td>\n      <td>0</td>\n      <td>1650</td>\n    </tr>\n    <tr>\n      <th>13</th>\n      <td>0.285</td>\n      <td>0.380</td>\n      <td>96</td>\n      <td>157</td>\n      <td>30</td>\n      <td>3</td>\n      <td>3</td>\n      <td>50</td>\n      <td>83</td>\n      <td>36</td>\n      <td>35</td>\n      <td>8</td>\n      <td>1</td>\n      <td>0</td>\n      <td>0</td>\n      <td>0</td>\n      <td>2000</td>\n    </tr>\n  </tbody>\n</table>\n</div>"
     },
     "execution_count": 79,
     "metadata": {},
     "output_type": "execute_result"
    }
   ],
   "source": [
    "df[df['salary'] > 1248].head(5)"
   ],
   "metadata": {
    "collapsed": false
   }
  },
  {
   "cell_type": "markdown",
   "source": [
    "## Задание 3.3.2"
   ],
   "metadata": {
    "collapsed": false
   }
  },
  {
   "cell_type": "code",
   "execution_count": 80,
   "outputs": [
    {
     "data": {
      "text/plain": "     sepal_length_cm  sepal_width_cm  petal_length_cm  petal_width_cm  \\\n0           0.222222        1.032057              1.4             0.2   \n1           0.166667       -0.124958              1.4             0.2   \n2           0.111111        0.337848              1.3             0.2   \n3           0.083333        0.106445              1.5             0.2   \n4           0.194444        1.263460              1.4             0.2   \n..               ...             ...              ...             ...   \n145         0.666667       -0.124958              5.2             2.3   \n146         0.555556       -1.281972              5.0             1.9   \n147         0.611111       -0.124958              5.2             2.0   \n148         0.527778        0.800654              5.4             2.3   \n149         0.444444       -0.124958              5.1             1.8   \n\n       species  \n0       setosa  \n1       setosa  \n2       setosa  \n3       setosa  \n4       setosa  \n..         ...  \n145  virginica  \n146  virginica  \n147  virginica  \n148  virginica  \n149  virginica  \n\n[150 rows x 5 columns]",
      "text/html": "<div>\n<style scoped>\n    .dataframe tbody tr th:only-of-type {\n        vertical-align: middle;\n    }\n\n    .dataframe tbody tr th {\n        vertical-align: top;\n    }\n\n    .dataframe thead th {\n        text-align: right;\n    }\n</style>\n<table border=\"1\" class=\"dataframe\">\n  <thead>\n    <tr style=\"text-align: right;\">\n      <th></th>\n      <th>sepal_length_cm</th>\n      <th>sepal_width_cm</th>\n      <th>petal_length_cm</th>\n      <th>petal_width_cm</th>\n      <th>species</th>\n    </tr>\n  </thead>\n  <tbody>\n    <tr>\n      <th>0</th>\n      <td>0.222222</td>\n      <td>1.032057</td>\n      <td>1.4</td>\n      <td>0.2</td>\n      <td>setosa</td>\n    </tr>\n    <tr>\n      <th>1</th>\n      <td>0.166667</td>\n      <td>-0.124958</td>\n      <td>1.4</td>\n      <td>0.2</td>\n      <td>setosa</td>\n    </tr>\n    <tr>\n      <th>2</th>\n      <td>0.111111</td>\n      <td>0.337848</td>\n      <td>1.3</td>\n      <td>0.2</td>\n      <td>setosa</td>\n    </tr>\n    <tr>\n      <th>3</th>\n      <td>0.083333</td>\n      <td>0.106445</td>\n      <td>1.5</td>\n      <td>0.2</td>\n      <td>setosa</td>\n    </tr>\n    <tr>\n      <th>4</th>\n      <td>0.194444</td>\n      <td>1.263460</td>\n      <td>1.4</td>\n      <td>0.2</td>\n      <td>setosa</td>\n    </tr>\n    <tr>\n      <th>...</th>\n      <td>...</td>\n      <td>...</td>\n      <td>...</td>\n      <td>...</td>\n      <td>...</td>\n    </tr>\n    <tr>\n      <th>145</th>\n      <td>0.666667</td>\n      <td>-0.124958</td>\n      <td>5.2</td>\n      <td>2.3</td>\n      <td>virginica</td>\n    </tr>\n    <tr>\n      <th>146</th>\n      <td>0.555556</td>\n      <td>-1.281972</td>\n      <td>5.0</td>\n      <td>1.9</td>\n      <td>virginica</td>\n    </tr>\n    <tr>\n      <th>147</th>\n      <td>0.611111</td>\n      <td>-0.124958</td>\n      <td>5.2</td>\n      <td>2.0</td>\n      <td>virginica</td>\n    </tr>\n    <tr>\n      <th>148</th>\n      <td>0.527778</td>\n      <td>0.800654</td>\n      <td>5.4</td>\n      <td>2.3</td>\n      <td>virginica</td>\n    </tr>\n    <tr>\n      <th>149</th>\n      <td>0.444444</td>\n      <td>-0.124958</td>\n      <td>5.1</td>\n      <td>1.8</td>\n      <td>virginica</td>\n    </tr>\n  </tbody>\n</table>\n<p>150 rows × 5 columns</p>\n</div>"
     },
     "execution_count": 80,
     "metadata": {},
     "output_type": "execute_result"
    }
   ],
   "source": [
    "from sklearn import preprocessing\n",
    "## I masked path, so no one can one my own home pc path\n",
    "df = pd.read_csv(\"iris.csv\")\n",
    "minmax_scaler = preprocessing.MinMaxScaler(feature_range=(0, 1))\n",
    "scaled_sepal_length = minmax_scaler.fit_transform(df[['sepal_length_cm']])\n",
    "df.sepal_length_cm = scaled_sepal_length\n",
    "standart_scaler = preprocessing.StandardScaler()\n",
    "scaled_sepal_width = standart_scaler.fit_transform(df[['sepal_width_cm']])\n",
    "df.sepal_width_cm = scaled_sepal_width\n",
    "df"
   ],
   "metadata": {
    "collapsed": false
   }
  },
  {
   "cell_type": "markdown",
   "source": [],
   "metadata": {
    "collapsed": false
   }
  }
 ],
 "metadata": {
  "kernelspec": {
   "display_name": "Python 3",
   "language": "python",
   "name": "python3"
  },
  "language_info": {
   "codemirror_mode": {
    "name": "ipython",
    "version": 2
   },
   "file_extension": ".py",
   "mimetype": "text/x-python",
   "name": "python",
   "nbconvert_exporter": "python",
   "pygments_lexer": "ipython2",
   "version": "2.7.6"
  }
 },
 "nbformat": 4,
 "nbformat_minor": 0
}
