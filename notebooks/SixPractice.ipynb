{
 "cells": [
  {
   "cell_type": "markdown",
   "source": [
    "### 1.1.1 Пример\n",
    "> Пусть дана начальная популяция из четырех хромосом с двумя генами x и y. Показатель качества хромосомы оценивается функцией Z. При равном качестве хромосом предпочтение отдается хромосоме с большим номером. На каждом этапе хромосома a с высшим качеством порождает четыре новых хромосомы b_1,c_1,b_2,c_2, обмениваясь генами с двумя хромосомами b и c более низкого качества по указанной схеме:\n",
    "\n",
    "> Последняя хромоcома (с низшим качеством) выбывает из популяции. Найти максимальный показатель качества хромосомы в популяции и общее качество популяции после четырех этапов эволюции.\n",
    "\n",
    "> Потребуется несколько функций для реализации алгоритма. Напишем их."
   ],
   "metadata": {
    "collapsed": false
   }
  },
  {
   "cell_type": "code",
   "execution_count": 24,
   "outputs": [],
   "source": [
    "# начнём с функции оценки качетсва хромосомы qZ(x,y):\n",
    "\n",
    "# функция качества хромосомы\n",
    "def qZ(x, y):\n",
    "    return (x - 3 * y + 1) / (3 * x ** 2 + 3 * y ** 2 + 1)"
   ],
   "metadata": {
    "collapsed": false,
    "ExecuteTime": {
     "end_time": "2023-05-17T02:24:48.379660Z",
     "start_time": "2023-05-17T02:24:48.122490300Z"
    }
   }
  },
  {
   "cell_type": "code",
   "execution_count": 25,
   "outputs": [],
   "source": [
    "# далее, оценим суммарное качество хромосом:\n",
    "\n",
    "# сумма качества\n",
    "def qSumZ(Z):\n",
    "    return sum(Z)\n"
   ],
   "metadata": {
    "collapsed": false,
    "ExecuteTime": {
     "end_time": "2023-05-17T02:24:48.381660900Z",
     "start_time": "2023-05-17T02:24:48.138488500Z"
    }
   }
  },
  {
   "cell_type": "code",
   "execution_count": 26,
   "outputs": [],
   "source": [
    "# и запрограммируем представленную выше схему обмена хромосомами:\n",
    "\n",
    "def exchangeScheme(oldX, oldY, sortedId):\n",
    "    X = [0 for i in range(4)]\n",
    "    Y = [0 for i in range(4)]\n",
    "\n",
    "    X[2] = oldX[sortedId[2]]\n",
    "    X[3] = oldX[sortedId[2]]\n",
    "\n",
    "    X[0] = oldX[sortedId[0]]\n",
    "\n",
    "    X[1] = oldX[sortedId[1]]\n",
    "\n",
    "    Y[0] = oldY[sortedId[2]]\n",
    "    Y[1] = oldY[sortedId[2]]\n",
    "    Y[2] = oldY[sortedId[0]]\n",
    "    Y[3] = oldY[sortedId[1]]\n",
    "\n",
    "    return X, Y"
   ],
   "metadata": {
    "collapsed": false,
    "ExecuteTime": {
     "end_time": "2023-05-17T02:24:48.382661500Z",
     "start_time": "2023-05-17T02:24:48.179918100Z"
    }
   }
  },
  {
   "cell_type": "code",
   "execution_count": 27,
   "outputs": [],
   "source": [
    "# отсортируем массив качества наших потомков и выделим полученные индексы:\n",
    "\n",
    "def sorting(Z):\n",
    "    sortedId = sorted(range(len(Z)), key = lambda k: Z[k])\n",
    "\n",
    "    return sortedId"
   ],
   "metadata": {
    "collapsed": false,
    "ExecuteTime": {
     "end_time": "2023-05-17T02:24:48.382661500Z",
     "start_time": "2023-05-17T02:24:48.179918100Z"
    }
   }
  },
  {
   "cell_type": "code",
   "execution_count": 28,
   "outputs": [],
   "source": [
    "# напишем функцию для шага эволюции:\n",
    "\n",
    "# шаг эволюции\n",
    "def evoStep(X, Y, Z):\n",
    "    _, minId = min((value, id) for (id, value) in enumerate(Z))\n",
    "    X = X[:]\n",
    "    Y = Y[:]\n",
    "    Z = Z[:]\n",
    "\n",
    "    X.pop(minId)\n",
    "    Y.pop(minId)\n",
    "    Z.pop(minId)\n",
    "\n",
    "    return X, Y, Z"
   ],
   "metadata": {
    "collapsed": false,
    "ExecuteTime": {
     "end_time": "2023-05-17T02:24:48.382661500Z",
     "start_time": "2023-05-17T02:24:48.179918100Z"
    }
   }
  },
  {
   "cell_type": "code",
   "execution_count": 29,
   "outputs": [],
   "source": [
    "# произведём эволюционные изменения, в соответствии с задачей - 4 шага:\n",
    "\n",
    "# шаги эволюции (конечная функция), по умолчанию 4 шага\n",
    "def evoSteps(X, Y, stepsNum = 4):\n",
    "    results = []\n",
    "\n",
    "    for i in range(4):\n",
    "        arrZ = [qZ(x, Y[i]) for i, x in enumerate(X)]\n",
    "\n",
    "        X, Y, Z = evoStep(X, Y, arrZ)\n",
    "\n",
    "        X, Y = exchangeScheme(X, Y, sorting(Z))\n",
    "\n",
    "        results.append([X, Y, qSumZ(arrZ), arrZ])\n",
    "\n",
    "    return X, Y, results"
   ],
   "metadata": {
    "collapsed": false,
    "ExecuteTime": {
     "end_time": "2023-05-17T02:24:48.382661500Z",
     "start_time": "2023-05-17T02:24:48.229661Z"
    }
   }
  },
  {
   "cell_type": "markdown",
   "source": [
    "Теперь, когда мы подготовились к решению задачи, написав все необходимые функции для реализации генетического алгоритма (оценки качества хромосом, сортировки потомков и эволюционных шагов), решим задачу в числах.\n",
    "\n",
    "Пусть даны следующие массивы хромосом X и Y:\n",
    "\n",
    "Запишем их в требуемом виде и воспользуемся написанной функцией evoSteps.\n",
    "\n",
    "Теперь, выведем полученные значения для показателя качества хромосомы в популяции и общее качество популяции после четырех этапов эволюции. Для этого, воспользуемся циклом по значениям переменной results."
   ],
   "metadata": {
    "collapsed": false
   }
  },
  {
   "cell_type": "code",
   "execution_count": 30,
   "outputs": [],
   "source": [
    "# объявление массивов хромосом\n",
    "X = [-2, -1, 0, 1]\n",
    "Y = [-2, -1, 0, 1]"
   ],
   "metadata": {
    "collapsed": false,
    "ExecuteTime": {
     "end_time": "2023-05-17T02:24:48.382661500Z",
     "start_time": "2023-05-17T02:24:48.229661Z"
    }
   }
  },
  {
   "cell_type": "code",
   "execution_count": 31,
   "outputs": [],
   "source": [
    "# реализация алгоритма\n",
    "results = evoSteps(X, Y)"
   ],
   "metadata": {
    "collapsed": false,
    "ExecuteTime": {
     "end_time": "2023-05-17T02:24:48.382661500Z",
     "start_time": "2023-05-17T02:24:48.229661Z"
    }
   }
  },
  {
   "cell_type": "code",
   "execution_count": 32,
   "outputs": [
    {
     "name": "stdout",
     "output_type": "stream",
     "text": [
      "max_1_step: 1.4857142857142858\n",
      "max_2_step: 1.4615384615384615\n",
      "max_3_step: 2.967032967032967\n",
      "max_4_step: 3.5384615384615383\n",
      "max Z: 1.0\n"
     ]
    }
   ],
   "source": [
    "# Теперь, выведем полученные значения для показателя качества хромосомы\n",
    "# в популяции и общее качество популяции после четырех этапов эволюции.\n",
    "# для этого, воспользуемся циклом по значениям переменной results.\n",
    "\n",
    "for i in range(len(results[2])):\n",
    "    print(f'max_{i + 1}_step: {results[2][i][2]}')\n",
    "\n",
    "qualityArrZ = []\n",
    "for i in range(len(results[2])):\n",
    "    qualityArrZ += results[2][i][3]\n",
    "\n",
    "print(f'max Z: {max(qualityArrZ)}')"
   ],
   "metadata": {
    "collapsed": false,
    "ExecuteTime": {
     "end_time": "2023-05-17T02:24:48.382661500Z",
     "start_time": "2023-05-17T02:24:48.229661Z"
    }
   }
  },
  {
   "cell_type": "markdown",
   "source": [
    "### Задание 1.1"
   ],
   "metadata": {
    "collapsed": false
   }
  },
  {
   "cell_type": "code",
   "execution_count": 33,
   "outputs": [
    {
     "name": "stdout",
     "output_type": "stream",
     "text": [
      "max_1_step: -0.6724867724867726\n",
      "max_2_step: -1.7407407407407407\n",
      "max_3_step: 0.35925925925925917\n",
      "max_4_step: 1.4259259259259258\n",
      "max Z: 0.6666666666666666\n"
     ]
    }
   ],
   "source": [
    "# Вариант 6\n",
    "def qZ(x, y):\n",
    "    return (x + 3 * y) / (x ** 2 + y ** 2 + 1)\n",
    "\n",
    "def qSumZ(Z):\n",
    "    return sum(Z)\n",
    "\n",
    "def exchangeScheme(oldX, oldY, sortedId):\n",
    "    X = [0 for i in range(4)]\n",
    "    Y = [0 for i in range(4)]\n",
    "\n",
    "    X[2] = oldX[sortedId[2]]\n",
    "    X[3] = oldX[sortedId[2]]\n",
    "\n",
    "    X[0] = oldX[sortedId[0]]\n",
    "\n",
    "    X[1] = oldX[sortedId[1]]\n",
    "\n",
    "    Y[0] = oldY[sortedId[2]]\n",
    "    Y[1] = oldY[sortedId[2]]\n",
    "    Y[2] = oldY[sortedId[0]]\n",
    "    Y[3] = oldY[sortedId[1]]\n",
    "\n",
    "    return X, Y\n",
    "\n",
    "def sorting(Z):\n",
    "    sortedId = sorted(range(len(Z)), key = lambda k: Z[k])\n",
    "\n",
    "    return sortedId\n",
    "\n",
    "def evoStep(X, Y, Z):\n",
    "    _, minId = min((value, id) for (id, value) in enumerate(Z))\n",
    "    X = X[:]\n",
    "    Y = Y[:]\n",
    "    Z = Z[:]\n",
    "\n",
    "    X.pop(minId)\n",
    "    Y.pop(minId)\n",
    "    Z.pop(minId)\n",
    "\n",
    "    return X, Y, Z\n",
    "\n",
    "def evoSteps(X, Y, stepsNum = 4):\n",
    "    results = []\n",
    "\n",
    "    for i in range(4):\n",
    "        arrZ = [qZ(x, Y[i]) for i, x in enumerate(X)]\n",
    "\n",
    "        X, Y, Z = evoStep(X, Y, arrZ)\n",
    "\n",
    "        X, Y = exchangeScheme(X, Y, sorting(Z))\n",
    "\n",
    "        results.append([X, Y, qSumZ(arrZ), arrZ])\n",
    "\n",
    "    return X, Y, results\n",
    "\n",
    "X = [-5, -3, -2, -1]\n",
    "Y = [-1, -2, 0, 1]\n",
    "results = evoSteps(X, Y)\n",
    "\n",
    "for i in range(len(results[2])):\n",
    "    print(f'max_{i + 1}_step: {results[2][i][2]}')\n",
    "\n",
    "qualityArrZ = []\n",
    "for i in range(len(results[2])):\n",
    "    qualityArrZ += results[2][i][3]\n",
    "\n",
    "print(f'max Z: {max(qualityArrZ)}')"
   ],
   "metadata": {
    "collapsed": false,
    "ExecuteTime": {
     "end_time": "2023-05-17T02:24:48.382661500Z",
     "start_time": "2023-05-17T02:24:48.229661Z"
    }
   }
  },
  {
   "cell_type": "markdown",
   "source": [
    "### 1.2.1 Пример\n",
    "Итак, начальные условия задачи представляют собой следующий граф с расстояниями между ребрами:\n",
    "![img.png](C:\\Users\\volko\\PycharmProjects\\AI_RTU_MIREA\\notebooks\\img.png)\n"
   ],
   "metadata": {
    "collapsed": false
   }
  },
  {
   "cell_type": "code",
   "execution_count": 34,
   "outputs": [],
   "source": [
    "# рассмотрим решение с применением Python\n",
    "\n",
    "# импортируем библиотеки:\n",
    "import networkx as nx\n",
    "from math import e"
   ],
   "metadata": {
    "collapsed": false,
    "ExecuteTime": {
     "end_time": "2023-05-17T02:24:48.382661500Z",
     "start_time": "2023-05-17T02:24:48.229661Z"
    }
   }
  },
  {
   "cell_type": "code",
   "execution_count": 35,
   "outputs": [],
   "source": [
    "# Далее, опишем массив длин ребер, последовательности прохождение\n",
    "# вершин на маршруте и их замены, значения P, а также начальную температуру:\n",
    "distances = [(1, 2, 20),\n",
    "            (1, 3, 40),\n",
    "            (1, 4, 42),\n",
    "            (1, 5, 33),\n",
    "            (1, 6, 21),\n",
    "            (2, 3, 26),\n",
    "            (2, 4, 38),\n",
    "            (2, 5, 42),\n",
    "            (2, 6, 17),\n",
    "            (3, 4, 22),\n",
    "            (3, 5, 43),\n",
    "            (3, 6, 21),\n",
    "            (4, 5, 27),\n",
    "            (4, 6, 27),\n",
    "            (4, 6, 22),\n",
    "            (5, 6, 26)] # длины рёбер\n",
    "\n",
    "V = [1, 4, 5, 2, 6, 3, 1] # последовательность происхождения маршрута\n",
    "Z = [(3, 4),\n",
    "    (4, 6),\n",
    "    (5, 2),\n",
    "    (6, 2)] # последовательность замен вершин\n",
    "P = [49, 54, 43, 54] # случайные числа, выпавшие в процессе счёта\n",
    "\n",
    "T = 100 # начальная температура"
   ],
   "metadata": {
    "collapsed": false,
    "ExecuteTime": {
     "end_time": "2023-05-17T02:24:48.383662500Z",
     "start_time": "2023-05-17T02:24:48.279666900Z"
    }
   }
  },
  {
   "cell_type": "code",
   "execution_count": 36,
   "outputs": [],
   "source": [
    "# запишем функцию вероятности и изменения температуры:\n",
    "\n",
    "# функция вероятности\n",
    "def probability(delta, T):\n",
    "    return 100 * e ** (-delta / T)\n",
    "\n",
    "# функция изменения температуры\n",
    "def reductTemp(prevT):\n",
    "    nextT = 0.5 * prevT\n",
    "\n",
    "    return nextT"
   ],
   "metadata": {
    "collapsed": false,
    "ExecuteTime": {
     "end_time": "2023-05-17T02:24:48.383662500Z",
     "start_time": "2023-05-17T02:24:48.279666900Z"
    }
   }
  },
  {
   "cell_type": "code",
   "execution_count": 37,
   "outputs": [
    {
     "data": {
      "text/plain": "<Figure size 432x288 with 1 Axes>",
      "image/png": "[encoded data removed]"
     },
     "metadata": {},
     "output_type": "display_data"
    }
   ],
   "source": [
    "# построим граф по заданным вершинам, как в начальном условии:\n",
    "\n",
    "graph = nx.Graph() # создание пустого графа\n",
    "graph.add_weighted_edges_from(distances) # добавление весов рёбер\n",
    "\n",
    "# отрисовка графа с заданными вершинами\n",
    "nx.draw_kamada_kawai(graph, node_color='#fb7258', node_size = 2000, with_labels=True)"
   ],
   "metadata": {
    "collapsed": false,
    "ExecuteTime": {
     "end_time": "2023-05-17T02:24:48.510660700Z",
     "start_time": "2023-05-17T02:24:48.279666900Z"
    }
   }
  },
  {
   "cell_type": "code",
   "execution_count": 38,
   "outputs": [],
   "source": [
    "# теперь, напишем необходимые, согласно алгориму выше, функции для\n",
    "# работы метода имитации отжига. Вычислим длину ребра:\n",
    "\n",
    "# вычисление длины ребра\n",
    "def edgeLength(i, j, distances, roundTrip=True):\n",
    "    if roundTrip:\n",
    "        return max([(item[2] if (item[0] == i and item[1] == j) or (item[1] == i and item[0] == j) else -1) for item in distances])\n",
    "    else:\n",
    "        return max([(item[2] if (item[0] == i and item[1] == j) else -1) for item in distances])"
   ],
   "metadata": {
    "collapsed": false,
    "ExecuteTime": {
     "end_time": "2023-05-17T02:24:48.510660700Z",
     "start_time": "2023-05-17T02:24:48.428664300Z"
    }
   }
  },
  {
   "cell_type": "code",
   "execution_count": 39,
   "outputs": [],
   "source": [
    "# вычислим длину маршрута\n",
    "\n",
    "# вычисление длины маршрута\n",
    "def routeLength(V, distances):\n",
    "    edges = []\n",
    "\n",
    "    for i in range(len(V) - 1):\n",
    "        edges.append(edgeLength(V[i], V[i+1], distances))\n",
    "\n",
    "    return sum(edges)"
   ],
   "metadata": {
    "collapsed": false,
    "ExecuteTime": {
     "end_time": "2023-05-17T02:24:48.510660700Z",
     "start_time": "2023-05-17T02:24:48.469662200Z"
    }
   }
  },
  {
   "cell_type": "code",
   "execution_count": 40,
   "outputs": [],
   "source": [
    "# запишем функцию для однократной перестановки в пути:\n",
    "\n",
    "# одна перестановка в пути\n",
    "def routeOneReplacement(arrV, Z, replacementByName=True):\n",
    "    decrement = 1 if replacementByName else 0\n",
    "\n",
    "    arrV[Z[0] - decrement], arrV[Z[1] - decrement] = arrV[Z[1] - decrement], arrV[Z[0] - decrement]\n",
    "\n",
    "    return arrV"
   ],
   "metadata": {
    "collapsed": false,
    "ExecuteTime": {
     "end_time": "2023-05-17T02:24:48.510660700Z",
     "start_time": "2023-05-17T02:24:48.469662200Z"
    }
   }
  },
  {
   "cell_type": "code",
   "execution_count": 41,
   "outputs": [],
   "source": [
    "# а теперь запишем функцию, для реализации непосредственно самой перестановки:\n",
    "\n",
    "# перестановки в пути\n",
    "def routeReplacement(V, Z):\n",
    "    for z in Z:\n",
    "        V = routeOneReplacement(V, z)\n",
    "    return V"
   ],
   "metadata": {
    "collapsed": false,
    "ExecuteTime": {
     "end_time": "2023-05-17T02:24:48.510660700Z",
     "start_time": "2023-05-17T02:24:48.469662200Z"
    }
   }
  },
  {
   "cell_type": "code",
   "execution_count": 42,
   "outputs": [],
   "source": [
    "# теперь, опишем алгоритм выбора подходящего пути методом отжига:\n",
    "\n",
    "# выбор нужного пути методом отжига\n",
    "def chooseRoute(distances, V, Z, T, P):\n",
    "    sumLength = routeLength(V, distances) # нахождение длины пути\n",
    "    arrSum = [sumLength] # массив сумм длин\n",
    "\n",
    "    # циклы методом отжига\n",
    "    for i in range(len(Z)):\n",
    "        newV = routeOneReplacement(V[:], Z[i]) # новый маршрут после перестановки\n",
    "        newS = routeLength(newV, distances) # длина нового маршрута\n",
    "        arrSum.append(newS)\n",
    "        deltaS = newS - sumLength # разница между длиной нового и старого маршрутов\n",
    "\n",
    "        # в случае, если разница разница между длинами больше 0, то вычисляется вероятность\n",
    "        if deltaS > 0:\n",
    "            p = probability(deltaS, T) # подсчёт вероятности\n",
    "\n",
    "            # если заданная вероятность попадает в интервал от 0 до p, то новый маршрут выбирается\n",
    "            if p > P[i]:\n",
    "                V = newV\n",
    "                sumLength = newS\n",
    "        else:\n",
    "            V = newV\n",
    "            sumLength = newS\n",
    "\n",
    "            T = reductTemp(T) # вычисление температуры\n",
    "\n",
    "    return V, arrSum"
   ],
   "metadata": {
    "collapsed": false,
    "ExecuteTime": {
     "end_time": "2023-05-17T02:24:48.510660700Z",
     "start_time": "2023-05-17T02:24:48.470662600Z"
    }
   }
  },
  {
   "cell_type": "code",
   "execution_count": 43,
   "outputs": [],
   "source": [
    "# нарисуем наш граф, отвечающий заданному маршруту:\n",
    "\n",
    "# отрисовка графа по заданному маршруту\n",
    "def drawRouteGraph(distances, bestRoute):\n",
    "    newDistances = []\n",
    "    # прохождение по вектору\n",
    "    for i in range(len(bestRoute) - 1):\n",
    "        for distance in distances:\n",
    "            if distance[0] == bestRoute[i] and distance[1] == bestRoute[i + 1] or distance[1] == bestRoute[i] and distance[0] == bestRoute[i + 1]:\n",
    "                newDistances.append(distance)\n",
    "\n",
    "    graph = nx.Graph() # создание пустого графа\n",
    "\n",
    "    graph.add_weighted_edges_from(newDistances) # добавление весов рёбер\n",
    "    # отрисовка графа с заданными вершинами\n",
    "    nx.draw_kamada_kawai(graph, node_color='#fb7258', node_size = 2000, with_labels=True)"
   ],
   "metadata": {
    "collapsed": false,
    "ExecuteTime": {
     "end_time": "2023-05-17T02:24:48.510660700Z",
     "start_time": "2023-05-17T02:24:48.470662600Z"
    }
   }
  },
  {
   "cell_type": "code",
   "execution_count": 44,
   "outputs": [
    {
     "name": "stdout",
     "output_type": "stream",
     "text": [
      "Лучший выбранный маршрут: [1, 6, 2, 3, 4, 5, 1]\n",
      "Длина лучшего выбранного маршрута: 146\n",
      "Длины всех рассмотренных маршрутов: [189, 209, 186, 146, 171]\n"
     ]
    },
    {
     "data": {
      "text/plain": "<Figure size 432x288 with 1 Axes>",
      "image/png": "[encoded data removed]"
     },
     "metadata": {},
     "output_type": "display_data"
    }
   ],
   "source": [
    "# и, наконец, рассчитаем наилучший маршрут м его длину:\n",
    "\n",
    "bestRoute, arrLength = chooseRoute(distances, V, Z, T, P)\n",
    "\n",
    "print(f'Лучший выбранный маршрут: {bestRoute}')\n",
    "print(f'Длина лучшего выбранного маршрута: {routeLength(bestRoute, distances)}')\n",
    "print(f'Длины всех рассмотренных маршрутов: {arrLength}')\n",
    "\n",
    "drawRouteGraph(distances, bestRoute) # отрисовка лучшего маршрута"
   ],
   "metadata": {
    "collapsed": false,
    "ExecuteTime": {
     "end_time": "2023-05-17T02:24:48.534664200Z",
     "start_time": "2023-05-17T02:24:48.470662600Z"
    }
   }
  },
  {
   "cell_type": "markdown",
   "source": [
    "## Задание 1.2.1"
   ],
   "metadata": {
    "collapsed": false
   }
  },
  {
   "cell_type": "code",
   "execution_count": 45,
   "outputs": [
    {
     "data": {
      "text/plain": "<Figure size 432x288 with 1 Axes>",
      "image/png": "[encoded data removed]"
     },
     "metadata": {},
     "output_type": "display_data"
    }
   ],
   "source": [
    "# Вариант 5\n",
    "import networkx as nx\n",
    "from math import e\n",
    "\n",
    "distances = [(1, 2, 18),\n",
    "            (1, 3, 41),\n",
    "            (1, 4, 36),\n",
    "            (1, 5, 29),\n",
    "            (1, 6, 19),\n",
    "            (2, 3, 27),\n",
    "            (2, 4, 31),\n",
    "            (2, 5, 37),\n",
    "            (2, 6, 15),\n",
    "            (3, 4, 19),\n",
    "            (3, 5, 42),\n",
    "            (3, 6, 23),\n",
    "            (4, 5, 24),\n",
    "            (4, 6, 17),\n",
    "            (5, 6, 24)]\n",
    "V = [1, 3, 4, 5, 6, 2, 1]\n",
    "Z = [(2, 4),\n",
    "    (3, 4),\n",
    "    (4, 6),\n",
    "    (5, 6)]\n",
    "P = [63, 49, 45, 53]\n",
    "T = 100\n",
    "\n",
    "def probability(delta, T):\n",
    "    return 100 * e ** (-delta / T)\n",
    "\n",
    "def reductTemp(prevT):\n",
    "    nextT = 0.5 * prevT\n",
    "\n",
    "    return nextT\n",
    "\n",
    "graph = nx.Graph()\n",
    "graph.add_weighted_edges_from(distances)\n",
    "\n",
    "nx.draw_kamada_kawai(graph, node_color='#fb7258', node_size = 2000, with_labels=True)"
   ],
   "metadata": {
    "collapsed": false,
    "ExecuteTime": {
     "end_time": "2023-05-17T02:24:48.613663200Z",
     "start_time": "2023-05-17T02:24:48.538662100Z"
    }
   }
  },
  {
   "cell_type": "code",
   "execution_count": 46,
   "outputs": [
    {
     "name": "stdout",
     "output_type": "stream",
     "text": [
      "Лучший выбранный маршрут: [1, 5, 3, 2, 4, 6, 1]\n",
      "Длина лучшего выбранного маршрута: 165\n",
      "Длины всех рассмотренных маршрутов: [141, 128, 140, 166, 165]\n"
     ]
    },
    {
     "data": {
      "text/plain": "<Figure size 432x288 with 1 Axes>",
      "image/png": "[encoded data removed]"
     },
     "metadata": {},
     "output_type": "display_data"
    }
   ],
   "source": [
    "def edgeLength(i, j, distances, roundTrip=True):\n",
    "    if roundTrip:\n",
    "        return max([(item[2] if (item[0] == i and item[1] == j) or (item[1] == i and item[0] == j) else -1) for item in distances])\n",
    "    else:\n",
    "        return max([(item[2] if (item[0] == i and item[1] == j) else -1) for item in distances])\n",
    "\n",
    "def routeLength(V, distances):\n",
    "    edges = []\n",
    "\n",
    "    for i in range(len(V) - 1):\n",
    "        edges.append(edgeLength(V[i], V[i+1], distances))\n",
    "\n",
    "    return sum(edges)\n",
    "\n",
    "def routeOneReplacement(arrV, Z, replacementByName=True):\n",
    "    decrement = 1 if replacementByName else 0\n",
    "\n",
    "    arrV[Z[0] - decrement], arrV[Z[1] - decrement] = arrV[Z[1] - decrement], arrV[Z[0] - decrement]\n",
    "\n",
    "    return arrV\n",
    "\n",
    "def routeReplacement(V, Z):\n",
    "    for z in Z:\n",
    "        V = routeOneReplacement(V, z)\n",
    "    return V\n",
    "\n",
    "def chooseRoute(distances, V, Z, T, P):\n",
    "    sumLength = routeLength(V, distances) # нахождение длины пути\n",
    "    arrSum = [sumLength] # массив сумм длин\n",
    "\n",
    "    # циклы методом отжига\n",
    "    for i in range(len(Z)):\n",
    "        newV = routeOneReplacement(V[:], Z[i]) # новый маршрут после перестановки\n",
    "        newS = routeLength(newV, distances) # длина нового маршрута\n",
    "        arrSum.append(newS)\n",
    "        deltaS = newS - sumLength # разница между длиной нового и старого маршрутов\n",
    "\n",
    "        # в случае, если разница разница между длинами больше 0, то вычисляется вероятность\n",
    "        if deltaS > 0:\n",
    "            p = probability(deltaS, T) # подсчёт вероятности\n",
    "\n",
    "            # если заданная вероятность попадает в интервал от 0 до p, то новый маршрут выбирается\n",
    "            if p > P[i]:\n",
    "                V = newV\n",
    "                sumLength = newS\n",
    "        else:\n",
    "            V = newV\n",
    "            sumLength = newS\n",
    "\n",
    "            T = reductTemp(T) # вычисление температуры\n",
    "\n",
    "    return V, arrSum\n",
    "\n",
    "def drawRouteGraph(distances, bestRoute):\n",
    "    newDistances = []\n",
    "    # прохождение по вектору\n",
    "    for i in range(len(bestRoute) - 1):\n",
    "        for distance in distances:\n",
    "            if distance[0] == bestRoute[i] and distance[1] == bestRoute[i + 1] or distance[1] == bestRoute[i] and distance[0] == bestRoute[i + 1]:\n",
    "                newDistances.append(distance)\n",
    "\n",
    "    graph = nx.Graph() # создание пустого графа\n",
    "\n",
    "    graph.add_weighted_edges_from(newDistances) # добавление весов рёбер\n",
    "    # отрисовка графа с заданными вершинами\n",
    "    nx.draw_kamada_kawai(graph, node_color='#fb7258', node_size = 2000, with_labels=True)\n",
    "\n",
    "bestRoute, arrLength = chooseRoute(distances, V, Z, T, P)\n",
    "\n",
    "print(f'Лучший выбранный маршрут: {bestRoute}')\n",
    "print(f'Длина лучшего выбранного маршрута: {routeLength(bestRoute, distances)}')\n",
    "print(f'Длины всех рассмотренных маршрутов: {arrLength}')\n",
    "\n",
    "drawRouteGraph(distances, bestRoute)"
   ],
   "metadata": {
    "collapsed": false,
    "ExecuteTime": {
     "end_time": "2023-05-17T02:24:49.168786800Z",
     "start_time": "2023-05-17T02:24:49.103699800Z"
    }
   }
  }
 ],
 "metadata": {
  "kernelspec": {
   "display_name": "Python 3",
   "language": "python",
   "name": "python3"
  },
  "language_info": {
   "codemirror_mode": {
    "name": "ipython",
    "version": 2
   },
   "file_extension": ".py",
   "mimetype": "text/x-python",
   "name": "python",
   "nbconvert_exporter": "python",
   "pygments_lexer": "ipython2",
   "version": "2.7.6"
  }
 },
 "nbformat": 4,
 "nbformat_minor": 0
}
