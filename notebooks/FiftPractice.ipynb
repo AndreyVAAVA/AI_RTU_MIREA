{
 "cells": [
  {
   "cell_type": "markdown",
   "source": [
    "## 1.1.1 Пример\n",
    "> Необходимо разработать виртуальную модель процесса обучения. В программе должны быть объекты-ученики, учитель, кладезь знаний."
   ],
   "metadata": {
    "collapsed": false
   }
  },
  {
   "cell_type": "code",
   "execution_count": 121,
   "outputs": [
    {
     "name": "stdout",
     "output_type": "stream",
     "text": [
      "['inheritance']\n",
      "['inheritance', 'class']\n"
     ]
    }
   ],
   "source": [
    "class Data:\n",
    "    def __init__(self, *info):\n",
    "        self.info = list(info)\n",
    "    def __getitem__(self, i):\n",
    "        return self.info [i]\n",
    "\n",
    "class Teacher:\n",
    "    def teach(self, info, *pupil):\n",
    "        for i in pupil:\n",
    "            i.take(info)\n",
    "class Pupil:\n",
    "    def __init__(self):\n",
    "        self.knowledge = []\n",
    "    def take(self, info):\n",
    "        self.knowledge.append(info)\n",
    "\n",
    "lesson = Data('class', 'object', 'inheritance', 'polymorphism', 'encapsulation')\n",
    "marIvanna = Teacher()\n",
    "vasy = Pupil()\n",
    "pety = Pupil()\n",
    "marIvanna.teach(lesson[2], vasy, pety)\n",
    "marIvanna.teach(lesson[0], pety)\n",
    "print(vasy.knowledge)\n",
    "print(pety.knowledge)"
   ],
   "metadata": {
    "collapsed": false,
    "ExecuteTime": {
     "end_time": "2023-05-17T02:27:37.046074400Z",
     "start_time": "2023-05-17T02:27:36.680075100Z"
    }
   }
  },
  {
   "cell_type": "markdown",
   "source": [
    "## 1.1.2 Пример\n",
    "> Напишите программу по следующему описанию. Есть класс \"Воин\". От него создаются два экземпляра-юнита. Каждому устанавливается здоровье в 100 очков. В случайном порядке они бьют друг друга. Тот, кто бьет, здоровья не теряет. У того, кого бьют, оно уменьшается на 20 очков от одного удара. После каждого удара надо выводить сообщение, какой юнит атаковал, и сколько у противника осталось здоровья. Как только у кого-то заканчивается ресурс здоровья, программа завершается сообщением о том, кто одержал победу."
   ],
   "metadata": {
    "collapsed": false
   }
  },
  {
   "cell_type": "code",
   "execution_count": 122,
   "outputs": [
    {
     "name": "stdout",
     "output_type": "stream",
     "text": [
      "Warrior1  has attacked\n",
      "80  left\n",
      "Warrior2  has attacked\n",
      "80  left\n",
      "Warrior1  has attacked\n",
      "60  left\n",
      "Warrior1  has attacked\n",
      "40  left\n"
     ]
    }
   ],
   "source": [
    "import random\n",
    "class Warrior:\n",
    "    def __init__(self,health):\n",
    "        self.health = health\n",
    "\n",
    "    def hit(self,target,target1):\n",
    "        if target.health > 0:\n",
    "            target.health -= 20\n",
    "        if target1 == warrior1:\n",
    "            target1 = \"Warrior1\"\n",
    "        if target1 == warrior2:\n",
    "            target1 = \"Warrior2\"\n",
    "        print(target1, \" has attacked\")\n",
    "        print(target.health, \" left\")\n",
    "        if target.health == 0:\n",
    "            print(target1, \" has won\")\n",
    "\n",
    "warrior1 = Warrior(100)\n",
    "warrior2 = Warrior(100)\n",
    "q = int(input(\"Enter 1 to attack. Enter 2 to stop program:\"))\n",
    "\n",
    "while q != 2:\n",
    "    if q == 1:\n",
    "        j = random.randint(1,3)\n",
    "        if j % 2 == 0:\n",
    "            warrior1.hit(warrior2,warrior1)\n",
    "            q = int(input(\"Enter 1 to let some warrior attack:\"))\n",
    "        else:\n",
    "            warrior2.hit(warrior1,warrior2)\n",
    "            q = int(input(\"Enter 1 to let some warrior attack:\"))\n",
    "    else:\n",
    "        print(\"Wrong input.\")\n",
    "        break"
   ],
   "metadata": {
    "collapsed": false,
    "ExecuteTime": {
     "end_time": "2023-05-17T02:27:41.738314600Z",
     "start_time": "2023-05-17T02:27:36.708075200Z"
    }
   }
  },
  {
   "cell_type": "markdown",
   "source": [
    "## 1.1.3 Пример\n",
    "> Создайте класс по работе с дробями. В классе должна быть реализована следующая функциональность:\n",
    "- сложение дробей;\n",
    "- вычитание дробей;\n",
    "- умножение дробей;\n",
    "- деление дробей."
   ],
   "metadata": {
    "collapsed": false
   }
  },
  {
   "cell_type": "code",
   "execution_count": 123,
   "outputs": [
    {
     "name": "stdout",
     "output_type": "stream",
     "text": [
      "5/6\n",
      "1/6\n",
      "1/6\n",
      "1/6\n",
      "3/2\n",
      "13/2\n"
     ]
    }
   ],
   "source": [
    "class Rational:\n",
    "\n",
    "    @staticmethod\n",
    "    def gcd(a,b):\n",
    "        while (b != 0):\n",
    "            (a,b) = (b,a%b)\n",
    "        return a\n",
    "\n",
    "    @staticmethod\n",
    "    def sgn(x):\n",
    "        if x>0:\n",
    "            return 1\n",
    "        elif x<0:\n",
    "            return -1\n",
    "        else:\n",
    "            return 0\n",
    "\n",
    "    def __init__(self,n,d):\n",
    "        if n==0:\n",
    "            self.num=0\n",
    "            self.den=1\n",
    "        else:\n",
    "            z=self.sgn(n)*self.sgn(d)\n",
    "            n=abs(n)\n",
    "            d=abs(d)\n",
    "            k=self.gcd(n,d)\n",
    "            self.num=z*n//k\n",
    "            self.den=d//k\n",
    "\n",
    "    def __str__(self):\n",
    "        if self.num==0:\n",
    "            return \"0\"\n",
    "        else:\n",
    "            return str(self.num)+\"/\"+str(self.den)\n",
    "\n",
    "    def __add__(self,o):\n",
    "        n1=self.num\n",
    "        d1=self.den\n",
    "        if type(o)==int:\n",
    "            n2=o\n",
    "            d2=1\n",
    "        else:\n",
    "            n2=o.num\n",
    "            d2=o.den\n",
    "        n=n1*d2+n2*d1\n",
    "        d=d1*d2\n",
    "        return Rational(n,d)\n",
    "\n",
    "    def __radd__(self,o):\n",
    "        n1=self.num\n",
    "        d1=self.den\n",
    "        if type(o)==int:\n",
    "            n2=o\n",
    "            d2=1\n",
    "        else:\n",
    "            n2=o.num\n",
    "            d2=o.den\n",
    "        n=n1*d2+n2*d1\n",
    "        d=d1*d2\n",
    "        return Rational(n,d)\n",
    "\n",
    "    def __sub__(self,o):\n",
    "        n1=self.num\n",
    "        d1=self.den\n",
    "        n2=o.num\n",
    "        d2=o.den\n",
    "        n=n1*d2-n2*d1\n",
    "        d=d1*d2\n",
    "        return Rational(n,d)\n",
    "\n",
    "    def __mul__(self,o):\n",
    "        n1=self.num\n",
    "        d1=self.den\n",
    "        n2=o.num\n",
    "        d2=o.den\n",
    "        n=n1*n2\n",
    "        d=d1*d2\n",
    "        return Rational(n,d)\n",
    "\n",
    "    def __floordiv__(self,o):\n",
    "        n1=self.num\n",
    "        d1=self.den\n",
    "        n2=o.num\n",
    "        d2=o.den\n",
    "        n=n1*d2\n",
    "        d=d1*n2\n",
    "        return Rational(n,d)\n",
    "\n",
    "d1=Rational(1,2)\n",
    "d2=Rational(1,3)\n",
    "d3=d1+d2\n",
    "print(d3)\n",
    "d4=d1-d2\n",
    "print(d4)\n",
    "d5=d1*d2\n",
    "print(d5)\n",
    "d6=d1*d2\n",
    "print(d6)\n",
    "d7=d1//d2\n",
    "print(d7)\n",
    "d8=6+d1\n",
    "print(d8)"
   ],
   "metadata": {
    "collapsed": false,
    "ExecuteTime": {
     "end_time": "2023-05-17T02:27:41.738314600Z",
     "start_time": "2023-05-17T02:27:41.688319300Z"
    }
   }
  },
  {
   "cell_type": "markdown",
   "source": [
    "## 1.1. Задание\n",
    "> Создайте класс по работе с тригонометрическими функциями. В классе должны быть реализованы функции вычисления:\n",
    "- косинуса;\n",
    "- синуса;\n",
    "- тангенса;арксинуса;\n",
    "- арккосинуса;\n",
    "- арктангенса;\n",
    "- перевода из градусов в радианы.\n"
   ],
   "metadata": {
    "collapsed": false
   }
  },
  {
   "cell_type": "code",
   "execution_count": 124,
   "outputs": [
    {
     "data": {
      "text/plain": "3.141592653589793"
     },
     "execution_count": 124,
     "metadata": {},
     "output_type": "execute_result"
    }
   ],
   "source": [
    "import math\n",
    "\n",
    "\n",
    "class Trigonometric:\n",
    "    @staticmethod\n",
    "    def cos(x):\n",
    "        return math.cos(x)\n",
    "    @staticmethod\n",
    "    def sin(x):\n",
    "        return math.sin(x)\n",
    "    @staticmethod\n",
    "    def tan(x):\n",
    "        return Trigonometric.sin(x)/Trigonometric.cos(x)\n",
    "    @staticmethod\n",
    "    def asin(x):\n",
    "        return math.asin(x)\n",
    "    @staticmethod\n",
    "    def acos(x):\n",
    "        return math.acos(x)\n",
    "    @staticmethod\n",
    "    def atan(x):\n",
    "        return Trigonometric.asin(x) / Trigonometric.acos(x)\n",
    "    @staticmethod\n",
    "    def degrees_to_radian(x):\n",
    "        return x * math.pi / 180\n",
    "\n",
    "Trigonometric.degrees_to_radian(180)"
   ],
   "metadata": {
    "collapsed": false,
    "ExecuteTime": {
     "end_time": "2023-05-17T02:27:41.739314400Z",
     "start_time": "2023-05-17T02:27:41.698314600Z"
    }
   }
  },
  {
   "cell_type": "markdown",
   "source": [
    "## 1.2.1 Пример\n",
    "> Определите класс бинарного дерева и задайте его объекты с отдельным атрибутом для каждого из потомков."
   ],
   "metadata": {
    "collapsed": false
   }
  },
  {
   "cell_type": "code",
   "execution_count": 125,
   "outputs": [
    {
     "data": {
      "text/plain": "'c'"
     },
     "execution_count": 125,
     "metadata": {},
     "output_type": "execute_result"
    }
   ],
   "source": [
    "class Tree:\n",
    "    def __init__(self, left, right):\n",
    "        self.left = left\n",
    "        self.right = right\n",
    "\n",
    "t = Tree(Tree(\"a\", \"b\"), Tree(\"c\", \"d\"))\n",
    "t.right.left"
   ],
   "metadata": {
    "collapsed": false,
    "ExecuteTime": {
     "end_time": "2023-05-17T02:27:41.739314400Z",
     "start_time": "2023-05-17T02:27:41.713315100Z"
    }
   }
  },
  {
   "cell_type": "markdown",
   "source": [
    "## 1.2.2 Пример\n",
    ">Для обозначения отсутствующих потомков можно использовать None (в случае если у узла только один потомок). Само собой, можно комбинировать разные методы (например, использовать списки или множества потомков для каждого узла).\n",
    "\n",
    ">Распространенный способ реализации деревьев, особенно на языках, не имеющих встроенной поддержки списков, это так называемое представление «первый потомок, следующий брат». В нем каждый узел имеет два «указателя» или атрибута, указывающих на другие узлы, как в бинарном дереве. Однако, первый из этих атрибутов ссылается на первого потомка узла, а второй — на его следующего брата (т.е. узел, имеющий того же родителя, но находящийся правее, — прим. перев). Иными словами, каждый узел дерева имеет указатель на связанный список его потомков, а каждый из этих потомков ссылается на свой собственный аналогичный список. Таким образом, небольшая модификация бинарного дерева даст нам многопутевое дерево, показанное в листинге ниже."
   ],
   "metadata": {
    "collapsed": false
   }
  },
  {
   "cell_type": "code",
   "execution_count": 126,
   "outputs": [
    {
     "data": {
      "text/plain": "'c'"
     },
     "execution_count": 126,
     "metadata": {},
     "output_type": "execute_result"
    }
   ],
   "source": [
    "class Tree:\n",
    "    def __init__(self, kids, next=None):\n",
    "        self.kids = self.val = kids\n",
    "        self.next = next\n",
    "\n",
    "t = Tree(Tree(\"a\", Tree(\"b\", Tree(\"c\", Tree(\"d\")))))\n",
    "t.kids.next.next.val"
   ],
   "metadata": {
    "collapsed": false,
    "ExecuteTime": {
     "end_time": "2023-05-17T02:27:41.874313600Z",
     "start_time": "2023-05-17T02:27:41.723316Z"
    }
   }
  },
  {
   "cell_type": "markdown",
   "source": [
    "## 1.2.1 Задание\n",
    ">Представьте дерево показанное на рисунке с использованием списка из списков. Выведите на печать корень дерева, а также его левое и правое поддеревья."
   ],
   "metadata": {
    "collapsed": false
   }
  },
  {
   "cell_type": "code",
   "execution_count": 127,
   "outputs": [
    {
     "name": "stdout",
     "output_type": "stream",
     "text": [
      "a\n",
      "['b', ['d', 'e']]\n",
      "['c', ['f']]\n"
     ]
    }
   ],
   "source": [
    "T = [\"a\", [\"b\", [\"d\", \"e\"]], [\"c\", [\"f\"]]]\n",
    "print(T[0])\n",
    "print(T[1])\n",
    "print(T[2])"
   ],
   "metadata": {
    "collapsed": false,
    "ExecuteTime": {
     "end_time": "2023-05-17T02:27:41.874313600Z",
     "start_time": "2023-05-17T02:27:41.769313400Z"
    }
   }
  },
  {
   "cell_type": "markdown",
   "source": [
    "## 1.2.2 Задание\n",
    ">Дан класс, описывающий бинарное дерево.\n",
    "Реализуйте в классе функцию для вставки нового элемента в дерево по следующим правилам:\n",
    "\n",
    "•Левое поддерево узла содержит только узлы со значениями меньше, чем значение в узле.\n",
    "•Правое поддерево узла содержит только узлы со значениями меньше, чем значение в узле.\n",
    "•Каждое из левого и правого поддеревьев также должно быть бинарным деревом поиска.\n",
    "•Не должно быть повторяющихся узлов.\n",
    "\n",
    "> Метод вставки сравнивает значение узла с родительским узлом и решает куда доваить элемент (в левое или правое поддерево). Перепишите, метод PrintTree для печати полной версии дерева."
   ],
   "metadata": {
    "collapsed": false
   }
  },
  {
   "cell_type": "code",
   "execution_count": 128,
   "outputs": [
    {
     "name": "stdout",
     "output_type": "stream",
     "text": [
      "1\n",
      "2\n",
      "3\n",
      "4\n",
      "5\n",
      "6\n",
      "7\n",
      "8\n",
      "9\n"
     ]
    }
   ],
   "source": [
    "class Tree:\n",
    "    end = False\n",
    "    def __init__(self, data):\n",
    "        self.left = None\n",
    "        self.right = None\n",
    "        self.data = data\n",
    "\n",
    "    def insert(self, data):\n",
    "        if self.data:\n",
    "            if data < self.data:\n",
    "                if self.left is None:\n",
    "                    self.left = Tree(data)\n",
    "                else:\n",
    "                    self.left.insert(data)\n",
    "            elif data > self.data:\n",
    "                if self.right is None:\n",
    "                    self.right = Tree(data)\n",
    "                else:\n",
    "                    self.right.insert(data)\n",
    "        else:\n",
    "            self.data = data\n",
    "\n",
    "    def PrintTree(self):\n",
    "        self.PrintLeft()\n",
    "        self.PrintRight()\n",
    "\n",
    "    def PrintRight(self):\n",
    "        print(self.data)\n",
    "        if self.right is not None:\n",
    "            self.right.PrintRight()\n",
    "\n",
    "    def PrintLeft(self):\n",
    "        if self.left is not None and self.end == False:\n",
    "            self.left.PrintLeft()\n",
    "        else:\n",
    "            self.end = True\n",
    "            print(self.data)\n",
    "            if self.right is not None:\n",
    "                self.right.PrintLeft()\n",
    "\n",
    "\n",
    "\n",
    "root = Tree(6)\n",
    "for i in range(0, 10):\n",
    "    root.insert(i)\n",
    "root.PrintTree()"
   ],
   "metadata": {
    "collapsed": false,
    "ExecuteTime": {
     "end_time": "2023-05-17T02:27:41.874313600Z",
     "start_time": "2023-05-17T02:27:41.770314900Z"
    }
   }
  },
  {
   "cell_type": "markdown",
   "source": [
    "## Пример 1.3.1\n",
    ">Построим дерево решений для задачи классификации, для этого, построим границу решения для каждого класса. В качестве данных будем использовать уже знакомый нам и встроенный в библиотеку sklearn набор данных ирисов Фишера. Импортируем библиотеки, набор данных и посмотрим его характеристики."
   ],
   "metadata": {
    "collapsed": false
   }
  },
  {
   "cell_type": "code",
   "execution_count": 129,
   "outputs": [
    {
     "data": {
      "text/plain": "     sepal_length  sepal_width  petal_length  petal_width    species\n0             5.1          3.5           1.4          0.2     setosa\n1             4.9          3.0           1.4          0.2     setosa\n2             4.7          3.2           1.3          0.2     setosa\n3             4.6          3.1           1.5          0.2     setosa\n4             5.0          3.6           1.4          0.2     setosa\n..            ...          ...           ...          ...        ...\n145           6.7          3.0           5.2          2.3  virginica\n146           6.3          2.5           5.0          1.9  virginica\n147           6.5          3.0           5.2          2.0  virginica\n148           6.2          3.4           5.4          2.3  virginica\n149           5.9          3.0           5.1          1.8  virginica\n\n[150 rows x 5 columns]",
      "text/html": "<div>\n<style scoped>\n    .dataframe tbody tr th:only-of-type {\n        vertical-align: middle;\n    }\n\n    .dataframe tbody tr th {\n        vertical-align: top;\n    }\n\n    .dataframe thead th {\n        text-align: right;\n    }\n</style>\n<table border=\"1\" class=\"dataframe\">\n  <thead>\n    <tr style=\"text-align: right;\">\n      <th></th>\n      <th>sepal_length</th>\n      <th>sepal_width</th>\n      <th>petal_length</th>\n      <th>petal_width</th>\n      <th>species</th>\n    </tr>\n  </thead>\n  <tbody>\n    <tr>\n      <th>0</th>\n      <td>5.1</td>\n      <td>3.5</td>\n      <td>1.4</td>\n      <td>0.2</td>\n      <td>setosa</td>\n    </tr>\n    <tr>\n      <th>1</th>\n      <td>4.9</td>\n      <td>3.0</td>\n      <td>1.4</td>\n      <td>0.2</td>\n      <td>setosa</td>\n    </tr>\n    <tr>\n      <th>2</th>\n      <td>4.7</td>\n      <td>3.2</td>\n      <td>1.3</td>\n      <td>0.2</td>\n      <td>setosa</td>\n    </tr>\n    <tr>\n      <th>3</th>\n      <td>4.6</td>\n      <td>3.1</td>\n      <td>1.5</td>\n      <td>0.2</td>\n      <td>setosa</td>\n    </tr>\n    <tr>\n      <th>4</th>\n      <td>5.0</td>\n      <td>3.6</td>\n      <td>1.4</td>\n      <td>0.2</td>\n      <td>setosa</td>\n    </tr>\n    <tr>\n      <th>...</th>\n      <td>...</td>\n      <td>...</td>\n      <td>...</td>\n      <td>...</td>\n      <td>...</td>\n    </tr>\n    <tr>\n      <th>145</th>\n      <td>6.7</td>\n      <td>3.0</td>\n      <td>5.2</td>\n      <td>2.3</td>\n      <td>virginica</td>\n    </tr>\n    <tr>\n      <th>146</th>\n      <td>6.3</td>\n      <td>2.5</td>\n      <td>5.0</td>\n      <td>1.9</td>\n      <td>virginica</td>\n    </tr>\n    <tr>\n      <th>147</th>\n      <td>6.5</td>\n      <td>3.0</td>\n      <td>5.2</td>\n      <td>2.0</td>\n      <td>virginica</td>\n    </tr>\n    <tr>\n      <th>148</th>\n      <td>6.2</td>\n      <td>3.4</td>\n      <td>5.4</td>\n      <td>2.3</td>\n      <td>virginica</td>\n    </tr>\n    <tr>\n      <th>149</th>\n      <td>5.9</td>\n      <td>3.0</td>\n      <td>5.1</td>\n      <td>1.8</td>\n      <td>virginica</td>\n    </tr>\n  </tbody>\n</table>\n<p>150 rows × 5 columns</p>\n</div>"
     },
     "execution_count": 129,
     "metadata": {},
     "output_type": "execute_result"
    }
   ],
   "source": [
    "import pandas as pd\n",
    "import numpy as np\n",
    "import seaborn as sns\n",
    "import matplotlib.pyplot as plt\n",
    "\n",
    "dataset = sns.load_dataset('iris')\n",
    "dataset"
   ],
   "metadata": {
    "collapsed": false,
    "ExecuteTime": {
     "end_time": "2023-05-17T02:27:41.874313600Z",
     "start_time": "2023-05-17T02:27:41.770314900Z"
    }
   }
  },
  {
   "cell_type": "code",
   "execution_count": 130,
   "outputs": [
    {
     "data": {
      "text/plain": "(150, 5)"
     },
     "execution_count": 130,
     "metadata": {},
     "output_type": "execute_result"
    }
   ],
   "source": [
    "dataset.shape"
   ],
   "metadata": {
    "collapsed": false,
    "ExecuteTime": {
     "end_time": "2023-05-17T02:27:41.874313600Z",
     "start_time": "2023-05-17T02:27:41.770314900Z"
    }
   }
  },
  {
   "cell_type": "code",
   "execution_count": 131,
   "outputs": [
    {
     "data": {
      "text/plain": "   sepal_length  sepal_width  petal_length  petal_width species\n0           5.1          3.5           1.4          0.2  setosa\n1           4.9          3.0           1.4          0.2  setosa\n2           4.7          3.2           1.3          0.2  setosa\n3           4.6          3.1           1.5          0.2  setosa\n4           5.0          3.6           1.4          0.2  setosa",
      "text/html": "<div>\n<style scoped>\n    .dataframe tbody tr th:only-of-type {\n        vertical-align: middle;\n    }\n\n    .dataframe tbody tr th {\n        vertical-align: top;\n    }\n\n    .dataframe thead th {\n        text-align: right;\n    }\n</style>\n<table border=\"1\" class=\"dataframe\">\n  <thead>\n    <tr style=\"text-align: right;\">\n      <th></th>\n      <th>sepal_length</th>\n      <th>sepal_width</th>\n      <th>petal_length</th>\n      <th>petal_width</th>\n      <th>species</th>\n    </tr>\n  </thead>\n  <tbody>\n    <tr>\n      <th>0</th>\n      <td>5.1</td>\n      <td>3.5</td>\n      <td>1.4</td>\n      <td>0.2</td>\n      <td>setosa</td>\n    </tr>\n    <tr>\n      <th>1</th>\n      <td>4.9</td>\n      <td>3.0</td>\n      <td>1.4</td>\n      <td>0.2</td>\n      <td>setosa</td>\n    </tr>\n    <tr>\n      <th>2</th>\n      <td>4.7</td>\n      <td>3.2</td>\n      <td>1.3</td>\n      <td>0.2</td>\n      <td>setosa</td>\n    </tr>\n    <tr>\n      <th>3</th>\n      <td>4.6</td>\n      <td>3.1</td>\n      <td>1.5</td>\n      <td>0.2</td>\n      <td>setosa</td>\n    </tr>\n    <tr>\n      <th>4</th>\n      <td>5.0</td>\n      <td>3.6</td>\n      <td>1.4</td>\n      <td>0.2</td>\n      <td>setosa</td>\n    </tr>\n  </tbody>\n</table>\n</div>"
     },
     "execution_count": 131,
     "metadata": {},
     "output_type": "execute_result"
    }
   ],
   "source": [
    "dataset.head()"
   ],
   "metadata": {
    "collapsed": false,
    "ExecuteTime": {
     "end_time": "2023-05-17T02:27:41.875314400Z",
     "start_time": "2023-05-17T02:27:41.770314900Z"
    }
   }
  },
  {
   "cell_type": "code",
   "execution_count": 132,
   "outputs": [
    {
     "data": {
      "text/plain": "((120, 4), (30, 4), (120,), (30,))"
     },
     "execution_count": 132,
     "metadata": {},
     "output_type": "execute_result"
    }
   ],
   "source": [
    "from sklearn.model_selection import train_test_split\n",
    "\n",
    "X_train, X_test, y_train, y_test = train_test_split(\n",
    "    # поскольку iris это pandas-таблица, для нее нужно указывать iloc\n",
    "    dataset.iloc[:, :-1], # берем все колонки кроме последней в признаки\n",
    "    dataset.iloc[:, -1], # последнюю в целевую переменную (класс)\n",
    "    test_size = 0.20 # размер тестовой выборки 20%\n",
    ")\n",
    "X_train.shape, X_test.shape, y_train.shape, y_test.shape"
   ],
   "metadata": {
    "collapsed": false,
    "ExecuteTime": {
     "end_time": "2023-05-17T02:27:41.875314400Z",
     "start_time": "2023-05-17T02:27:41.819314200Z"
    }
   }
  },
  {
   "cell_type": "code",
   "execution_count": 133,
   "outputs": [
    {
     "data": {
      "text/plain": "     sepal_length  sepal_width  petal_length  petal_width\n117           7.7          3.8           6.7          2.2\n60            5.0          2.0           3.5          1.0\n134           6.1          2.6           5.6          1.4\n120           6.9          3.2           5.7          2.3\n13            4.3          3.0           1.1          0.1",
      "text/html": "<div>\n<style scoped>\n    .dataframe tbody tr th:only-of-type {\n        vertical-align: middle;\n    }\n\n    .dataframe tbody tr th {\n        vertical-align: top;\n    }\n\n    .dataframe thead th {\n        text-align: right;\n    }\n</style>\n<table border=\"1\" class=\"dataframe\">\n  <thead>\n    <tr style=\"text-align: right;\">\n      <th></th>\n      <th>sepal_length</th>\n      <th>sepal_width</th>\n      <th>petal_length</th>\n      <th>petal_width</th>\n    </tr>\n  </thead>\n  <tbody>\n    <tr>\n      <th>117</th>\n      <td>7.7</td>\n      <td>3.8</td>\n      <td>6.7</td>\n      <td>2.2</td>\n    </tr>\n    <tr>\n      <th>60</th>\n      <td>5.0</td>\n      <td>2.0</td>\n      <td>3.5</td>\n      <td>1.0</td>\n    </tr>\n    <tr>\n      <th>134</th>\n      <td>6.1</td>\n      <td>2.6</td>\n      <td>5.6</td>\n      <td>1.4</td>\n    </tr>\n    <tr>\n      <th>120</th>\n      <td>6.9</td>\n      <td>3.2</td>\n      <td>5.7</td>\n      <td>2.3</td>\n    </tr>\n    <tr>\n      <th>13</th>\n      <td>4.3</td>\n      <td>3.0</td>\n      <td>1.1</td>\n      <td>0.1</td>\n    </tr>\n  </tbody>\n</table>\n</div>"
     },
     "execution_count": 133,
     "metadata": {},
     "output_type": "execute_result"
    }
   ],
   "source": [
    "X_train.head()"
   ],
   "metadata": {
    "collapsed": false,
    "ExecuteTime": {
     "end_time": "2023-05-17T02:27:41.875314400Z",
     "start_time": "2023-05-17T02:27:41.820315900Z"
    }
   }
  },
  {
   "cell_type": "code",
   "execution_count": 134,
   "outputs": [
    {
     "data": {
      "text/plain": "117     virginica\n60     versicolor\n134     virginica\n120     virginica\n13         setosa\nName: species, dtype: object"
     },
     "execution_count": 134,
     "metadata": {},
     "output_type": "execute_result"
    }
   ],
   "source": [
    "y_train.head()"
   ],
   "metadata": {
    "collapsed": false,
    "ExecuteTime": {
     "end_time": "2023-05-17T02:27:41.876314Z",
     "start_time": "2023-05-17T02:27:41.820315900Z"
    }
   }
  },
  {
   "cell_type": "code",
   "execution_count": 135,
   "outputs": [
    {
     "data": {
      "text/plain": "DecisionTreeClassifier()"
     },
     "execution_count": 135,
     "metadata": {},
     "output_type": "execute_result"
    }
   ],
   "source": [
    "from sklearn.tree import DecisionTreeClassifier\n",
    "classifier = DecisionTreeClassifier()\n",
    "classifier.fit(X_train, y_train)"
   ],
   "metadata": {
    "collapsed": false,
    "ExecuteTime": {
     "end_time": "2023-05-17T02:27:41.876314Z",
     "start_time": "2023-05-17T02:27:41.820315900Z"
    }
   }
  },
  {
   "cell_type": "code",
   "execution_count": 136,
   "outputs": [
    {
     "data": {
      "text/plain": "[Text(133.92000000000002, 199.32, 'X[3] <= 0.8\\ngini = 0.666\\nsamples = 120\\nvalue = [37, 41, 42]'),\n Text(100.44000000000001, 163.07999999999998, 'gini = 0.0\\nsamples = 37\\nvalue = [37, 0, 0]'),\n Text(167.40000000000003, 163.07999999999998, 'X[3] <= 1.65\\ngini = 0.5\\nsamples = 83\\nvalue = [0, 41, 42]'),\n Text(66.96000000000001, 126.83999999999999, 'X[2] <= 4.95\\ngini = 0.13\\nsamples = 43\\nvalue = [0, 40, 3]'),\n Text(33.480000000000004, 90.6, 'gini = 0.0\\nsamples = 39\\nvalue = [0, 39, 0]'),\n Text(100.44000000000001, 90.6, 'X[3] <= 1.55\\ngini = 0.375\\nsamples = 4\\nvalue = [0, 1, 3]'),\n Text(66.96000000000001, 54.359999999999985, 'gini = 0.0\\nsamples = 2\\nvalue = [0, 0, 2]'),\n Text(133.92000000000002, 54.359999999999985, 'X[1] <= 2.85\\ngini = 0.5\\nsamples = 2\\nvalue = [0, 1, 1]'),\n Text(100.44000000000001, 18.119999999999976, 'gini = 0.0\\nsamples = 1\\nvalue = [0, 1, 0]'),\n Text(167.40000000000003, 18.119999999999976, 'gini = 0.0\\nsamples = 1\\nvalue = [0, 0, 1]'),\n Text(267.84000000000003, 126.83999999999999, 'X[2] <= 4.85\\ngini = 0.049\\nsamples = 40\\nvalue = [0, 1, 39]'),\n Text(234.36, 90.6, 'X[1] <= 3.1\\ngini = 0.375\\nsamples = 4\\nvalue = [0, 1, 3]'),\n Text(200.88000000000002, 54.359999999999985, 'gini = 0.0\\nsamples = 3\\nvalue = [0, 0, 3]'),\n Text(267.84000000000003, 54.359999999999985, 'gini = 0.0\\nsamples = 1\\nvalue = [0, 1, 0]'),\n Text(301.32000000000005, 90.6, 'gini = 0.0\\nsamples = 36\\nvalue = [0, 0, 36]')]"
     },
     "execution_count": 136,
     "metadata": {},
     "output_type": "execute_result"
    },
    {
     "data": {
      "text/plain": "<Figure size 432x288 with 1 Axes>",
      "image/png": "[encoded data removed]"
     },
     "metadata": {},
     "output_type": "display_data"
    }
   ],
   "source": [
    "#построим дерево решений\n",
    "from sklearn import tree\n",
    "tree.plot_tree(classifier)"
   ],
   "metadata": {
    "collapsed": false,
    "ExecuteTime": {
     "end_time": "2023-05-17T02:27:42.202334200Z",
     "start_time": "2023-05-17T02:27:41.820894200Z"
    }
   }
  },
  {
   "cell_type": "code",
   "execution_count": 137,
   "outputs": [
    {
     "data": {
      "text/plain": "array(['virginica', 'setosa', 'versicolor', 'setosa', 'virginica',\n       'versicolor', 'setosa', 'versicolor', 'virginica', 'versicolor',\n       'setosa', 'setosa', 'setosa', 'virginica', 'virginica', 'setosa',\n       'virginica', 'setosa', 'virginica', 'setosa', 'setosa',\n       'versicolor', 'setosa', 'versicolor', 'setosa', 'versicolor',\n       'virginica', 'versicolor', 'setosa', 'virginica'], dtype=object)"
     },
     "execution_count": 137,
     "metadata": {},
     "output_type": "execute_result"
    }
   ],
   "source": [
    "y_pred = classifier.predict(X_test)\n",
    "y_pred"
   ],
   "metadata": {
    "collapsed": false,
    "ExecuteTime": {
     "end_time": "2023-05-17T02:27:42.244331300Z",
     "start_time": "2023-05-17T02:27:42.180334Z"
    }
   }
  },
  {
   "cell_type": "code",
   "execution_count": 138,
   "outputs": [
    {
     "name": "stdout",
     "output_type": "stream",
     "text": [
      "[[13  0  0]\n",
      " [ 0  8  1]\n",
      " [ 0  0  8]]\n",
      "              precision    recall  f1-score   support\n",
      "\n",
      "      setosa       1.00      1.00      1.00        13\n",
      "  versicolor       1.00      0.89      0.94         9\n",
      "   virginica       0.89      1.00      0.94         8\n",
      "\n",
      "    accuracy                           0.97        30\n",
      "   macro avg       0.96      0.96      0.96        30\n",
      "weighted avg       0.97      0.97      0.97        30\n",
      "\n"
     ]
    }
   ],
   "source": [
    "from sklearn.metrics import classification_report, confusion_matrix\n",
    "print(confusion_matrix(y_test, y_pred))\n",
    "print(classification_report(y_test, y_pred))"
   ],
   "metadata": {
    "collapsed": false,
    "ExecuteTime": {
     "end_time": "2023-05-17T02:27:42.244331300Z",
     "start_time": "2023-05-17T02:27:42.229503600Z"
    }
   }
  },
  {
   "cell_type": "markdown",
   "source": [
    "## Задание 1.3"
   ],
   "metadata": {
    "collapsed": false
   }
  },
  {
   "cell_type": "code",
   "execution_count": 139,
   "outputs": [
    {
     "name": "stdout",
     "output_type": "stream",
     "text": [
      "   0  1\n",
      "0 -1 -1\n",
      "1 -2 -1\n",
      "2 -3 -2\n",
      "3  1  1\n",
      "4  2  1\n",
      "5  3  2\n",
      "(6, 2)\n",
      "   0  1\n",
      "0 -1 -1\n",
      "1 -2 -1\n",
      "2 -3 -2\n",
      "3  1  1\n",
      "4  2  1\n",
      "[0]\n",
      "[[1]]\n",
      "              precision    recall  f1-score   support\n",
      "\n",
      "           0       1.00      1.00      1.00         1\n",
      "\n",
      "    accuracy                           1.00         1\n",
      "   macro avg       1.00      1.00      1.00         1\n",
      "weighted avg       1.00      1.00      1.00         1\n",
      "\n"
     ]
    },
    {
     "data": {
      "text/plain": "<Figure size 432x288 with 1 Axes>",
      "image/png": "[encoded data removed]"
     },
     "metadata": {},
     "output_type": "display_data"
    }
   ],
   "source": [
    "import pandas as pd\n",
    "import numpy as np\n",
    "import seaborn as sns\n",
    "import matplotlib.pyplot as plt\n",
    "from sklearn.model_selection import train_test_split\n",
    "from sklearn.tree import DecisionTreeClassifier\n",
    "from sklearn import tree\n",
    "from sklearn.metrics import classification_report, confusion_matrix\n",
    "x = np.array([[-1,-1],[-2,-1],[-3,-2],[1,1],[2,1],[3,2]])\n",
    "target = [0,0,0,1,1,1]\n",
    "dsx = pd.DataFrame(x)\n",
    "dsy = pd.DataFrame(target)\n",
    "print(dsx)\n",
    "print(dsx.shape)\n",
    "print(dsx.head())\n",
    "x_train, x_test, y_train, y_test = train_test_split(\n",
    "    dsx,\n",
    "    dsy,\n",
    "    test_size = 0.15\n",
    ")\n",
    "\n",
    "\n",
    "x_train.head()\n",
    "y_train.head()\n",
    "\n",
    "classifier = DecisionTreeClassifier()\n",
    "classifier.fit(x_train, y_train)\n",
    "tree.plot_tree(classifier)\n",
    "y_pred = classifier.predict(x_test)\n",
    "print(y_pred)\n",
    "print(confusion_matrix(y_test, y_pred))\n",
    "print(classification_report(y_test, y_pred))"
   ],
   "metadata": {
    "collapsed": false,
    "ExecuteTime": {
     "end_time": "2023-05-17T02:27:42.405363900Z",
     "start_time": "2023-05-17T02:27:42.230335800Z"
    }
   }
  },
  {
   "cell_type": "markdown",
   "source": [
    "## 1.4.1 Пример\n",
    ">Постойте регрессию с использованием дерева решений, реализованного в Python."
   ],
   "metadata": {
    "collapsed": false
   }
  },
  {
   "cell_type": "code",
   "execution_count": 140,
   "outputs": [
    {
     "name": "stdout",
     "output_type": "stream",
     "text": [
      "(30, 2)\n"
     ]
    },
    {
     "data": {
      "text/plain": "       YearsExperience         Salary\ncount        30.000000      30.000000\nmean          5.313333   76003.000000\nstd           2.837888   27414.429785\nmin           1.100000   37731.000000\n25%           3.200000   56720.750000\n50%           4.700000   65237.000000\n75%           7.700000  100544.750000\nmax          10.500000  122391.000000",
      "text/html": "<div>\n<style scoped>\n    .dataframe tbody tr th:only-of-type {\n        vertical-align: middle;\n    }\n\n    .dataframe tbody tr th {\n        vertical-align: top;\n    }\n\n    .dataframe thead th {\n        text-align: right;\n    }\n</style>\n<table border=\"1\" class=\"dataframe\">\n  <thead>\n    <tr style=\"text-align: right;\">\n      <th></th>\n      <th>YearsExperience</th>\n      <th>Salary</th>\n    </tr>\n  </thead>\n  <tbody>\n    <tr>\n      <th>count</th>\n      <td>30.000000</td>\n      <td>30.000000</td>\n    </tr>\n    <tr>\n      <th>mean</th>\n      <td>5.313333</td>\n      <td>76003.000000</td>\n    </tr>\n    <tr>\n      <th>std</th>\n      <td>2.837888</td>\n      <td>27414.429785</td>\n    </tr>\n    <tr>\n      <th>min</th>\n      <td>1.100000</td>\n      <td>37731.000000</td>\n    </tr>\n    <tr>\n      <th>25%</th>\n      <td>3.200000</td>\n      <td>56720.750000</td>\n    </tr>\n    <tr>\n      <th>50%</th>\n      <td>4.700000</td>\n      <td>65237.000000</td>\n    </tr>\n    <tr>\n      <th>75%</th>\n      <td>7.700000</td>\n      <td>100544.750000</td>\n    </tr>\n    <tr>\n      <th>max</th>\n      <td>10.500000</td>\n      <td>122391.000000</td>\n    </tr>\n  </tbody>\n</table>\n</div>"
     },
     "execution_count": 140,
     "metadata": {},
     "output_type": "execute_result"
    }
   ],
   "source": [
    "import pandas as pd\n",
    "import numpy as np\n",
    "import matplotlib.pyplot as plt\n",
    "\n",
    "url = r'https://raw.githubusercontent.com/AnnaShestova/salary-years-simple-linear-regression/master/Salary_Data.csv'\n",
    "dataset = pd.read_csv(url)\n",
    "dataset.head()\n",
    "\n",
    "#Исследуем набор данных\n",
    "print(dataset.shape)\n",
    "dataset.describe()"
   ],
   "metadata": {
    "collapsed": false,
    "ExecuteTime": {
     "end_time": "2023-05-17T02:27:42.497614800Z",
     "start_time": "2023-05-17T02:27:42.379333900Z"
    }
   }
  },
  {
   "cell_type": "code",
   "execution_count": 141,
   "outputs": [
    {
     "data": {
      "text/plain": "<Figure size 432x288 with 1 Axes>",
      "image/png": "[encoded data removed]"
     },
     "metadata": {},
     "output_type": "display_data"
    }
   ],
   "source": [
    "# Нарисуем точечную диаграмму\n",
    "plt.scatter (dataset['YearsExperience'], dataset['Salary'], color = 'b', label = \"Заработная плата\")\n",
    "plt.xlabel(\"Опыт(лет)\")\n",
    "plt.ylabel(\"Заработная плата\")\n",
    "plt.show()"
   ],
   "metadata": {
    "collapsed": false,
    "ExecuteTime": {
     "end_time": "2023-05-17T02:27:42.649616500Z",
     "start_time": "2023-05-17T02:27:42.500614Z"
    }
   }
  },
  {
   "cell_type": "code",
   "execution_count": 142,
   "outputs": [
    {
     "name": "stdout",
     "output_type": "stream",
     "text": [
      "[[ 1.1]\n",
      " [ 1.3]\n",
      " [ 1.5]\n",
      " [ 2. ]\n",
      " [ 2.2]\n",
      " [ 2.9]\n",
      " [ 3. ]\n",
      " [ 3.2]\n",
      " [ 3.2]\n",
      " [ 3.7]\n",
      " [ 3.9]\n",
      " [ 4. ]\n",
      " [ 4. ]\n",
      " [ 4.1]\n",
      " [ 4.5]\n",
      " [ 4.9]\n",
      " [ 5.1]\n",
      " [ 5.3]\n",
      " [ 5.9]\n",
      " [ 6. ]\n",
      " [ 6.8]\n",
      " [ 7.1]\n",
      " [ 7.9]\n",
      " [ 8.2]\n",
      " [ 8.7]\n",
      " [ 9. ]\n",
      " [ 9.5]\n",
      " [ 9.6]\n",
      " [10.3]\n",
      " [10.5]]\n",
      "[ 39343.  46205.  37731.  43525.  39891.  56642.  60150.  54445.  64445.\n",
      "  57189.  63218.  55794.  56957.  57081.  61111.  67938.  66029.  83088.\n",
      "  81363.  93940.  91738.  98273. 101302. 113812. 109431. 105582. 116969.\n",
      " 112635. 122391. 121872.]\n"
     ]
    },
    {
     "data": {
      "text/plain": "DecisionTreeRegressor()"
     },
     "execution_count": 142,
     "metadata": {},
     "output_type": "execute_result"
    }
   ],
   "source": [
    "from sklearn.tree import DecisionTreeRegressor\n",
    "X = dataset.iloc[:, :-1].values\n",
    "y = dataset.iloc[: , 1].values\n",
    "print(X)\n",
    "print(y)\n",
    "\n",
    "# Теперь, когда у нас есть атрибуты и метки, необходимо разделить их на а обучающий и тестовый наборы.\n",
    "# Приведенный фрагмент разделяет 80% данных на обучающий набор, а 20% данных - на набор тестов\n",
    "X_train, X_test, y_train, y_test = train_test_split(X, y, test_size = 0.2, random_state = 0)\n",
    "\n",
    "# далее можно обучить алгоритм линейной регрессии\n",
    "# необходимо импортировать класс LinearRegression, создать его экземпляр и вызвать метод fit()\n",
    "regressor = DecisionTreeRegressor()\n",
    "regressor.fit(X_train, y_train)"
   ],
   "metadata": {
    "collapsed": false,
    "ExecuteTime": {
     "end_time": "2023-05-17T02:27:42.651616200Z",
     "start_time": "2023-05-17T02:27:42.649616500Z"
    }
   }
  },
  {
   "cell_type": "code",
   "execution_count": 143,
   "outputs": [
    {
     "data": {
      "text/plain": "[Text(165.95689655172413, 203.85, 'X[0] <= 5.2\\nmse = 614737637.832\\nsamples = 24\\nvalue = 73886.208'),\n Text(69.26896551724138, 176.67000000000002, 'X[0] <= 2.55\\nmse = 81200345.857\\nsamples = 14\\nvalue = 54976.0'),\n Text(23.089655172413792, 149.49, 'X[0] <= 1.2\\nmse = 7820714.0\\nsamples = 4\\nvalue = 42241.0'),\n Text(11.544827586206896, 122.31, 'mse = 0.0\\nsamples = 1\\nvalue = 39343.0'),\n Text(34.63448275862069, 122.31, 'X[0] <= 2.1\\nmse = 6694994.667\\nsamples = 3\\nvalue = 43207.0'),\n Text(23.089655172413792, 95.13, 'X[0] <= 1.65\\nmse = 1795600.0\\nsamples = 2\\nvalue = 44865.0'),\n Text(11.544827586206896, 67.94999999999999, 'mse = 0.0\\nsamples = 1\\nvalue = 46205.0'),\n Text(34.63448275862069, 67.94999999999999, 'mse = 0.0\\nsamples = 1\\nvalue = 43525.0'),\n Text(46.179310344827584, 95.13, 'mse = 0.0\\nsamples = 1\\nvalue = 39891.0'),\n Text(115.44827586206895, 149.49, 'X[0] <= 4.7\\nmse = 19731272.6\\nsamples = 10\\nvalue = 60070.0'),\n Text(92.35862068965517, 122.31, 'X[0] <= 4.25\\nmse = 9499922.484\\nsamples = 8\\nvalue = 58341.625'),\n Text(80.81379310344828, 95.13, 'X[0] <= 3.45\\nmse = 9604901.143\\nsamples = 7\\nvalue = 57946.0'),\n Text(57.72413793103448, 67.94999999999999, 'X[0] <= 2.95\\nmse = 14313358.25\\nsamples = 4\\nvalue = 58920.5'),\n Text(46.179310344827584, 40.77000000000001, 'mse = 0.0\\nsamples = 1\\nvalue = 56642.0'),\n Text(69.26896551724138, 40.77000000000001, 'X[0] <= 3.1\\nmse = 16777116.667\\nsamples = 3\\nvalue = 59680.0'),\n Text(57.72413793103448, 13.590000000000003, 'mse = 0.0\\nsamples = 1\\nvalue = 60150.0'),\n Text(80.81379310344828, 13.590000000000003, 'mse = 25000000.0\\nsamples = 2\\nvalue = 59445.0'),\n Text(103.90344827586206, 67.94999999999999, 'X[0] <= 3.85\\nmse = 372490.889\\nsamples = 3\\nvalue = 56646.667'),\n Text(92.35862068965517, 40.77000000000001, 'mse = 0.0\\nsamples = 1\\nvalue = 57189.0'),\n Text(115.44827586206895, 40.77000000000001, 'mse = 338142.25\\nsamples = 2\\nvalue = 56375.5'),\n Text(103.90344827586206, 95.13, 'mse = 0.0\\nsamples = 1\\nvalue = 61111.0'),\n Text(138.53793103448277, 122.31, 'X[0] <= 5.0\\nmse = 911070.25\\nsamples = 2\\nvalue = 66983.5'),\n Text(126.99310344827586, 95.13, 'mse = 0.0\\nsamples = 1\\nvalue = 67938.0'),\n Text(150.08275862068965, 95.13, 'mse = 0.0\\nsamples = 1\\nvalue = 66029.0'),\n Text(262.6448275862069, 176.67000000000002, 'X[0] <= 8.05\\nmse = 160167356.45\\nsamples = 10\\nvalue = 100360.5'),\n Text(213.57931034482758, 149.49, 'X[0] <= 5.95\\nmse = 53566814.556\\nsamples = 6\\nvalue = 91617.333'),\n Text(184.71724137931034, 122.31, 'X[0] <= 5.6\\nmse = 743906.25\\nsamples = 2\\nvalue = 82225.5'),\n Text(173.17241379310343, 95.13, 'mse = 0.0\\nsamples = 1\\nvalue = 83088.0'),\n Text(196.26206896551724, 95.13, 'mse = 0.0\\nsamples = 1\\nvalue = 81363.0'),\n Text(242.44137931034481, 122.31, 'X[0] <= 6.95\\nmse = 13823368.688\\nsamples = 4\\nvalue = 96313.25'),\n Text(219.35172413793103, 95.13, 'X[0] <= 6.4\\nmse = 1212201.0\\nsamples = 2\\nvalue = 92839.0'),\n Text(207.80689655172412, 67.94999999999999, 'mse = 0.0\\nsamples = 1\\nvalue = 93940.0'),\n Text(230.8965517241379, 67.94999999999999, 'mse = 0.0\\nsamples = 1\\nvalue = 91738.0'),\n Text(265.5310344827586, 95.13, 'X[0] <= 7.5\\nmse = 2293710.25\\nsamples = 2\\nvalue = 99787.5'),\n Text(253.98620689655172, 67.94999999999999, 'mse = 0.0\\nsamples = 1\\nvalue = 98273.0'),\n Text(277.07586206896553, 67.94999999999999, 'mse = 0.0\\nsamples = 1\\nvalue = 101302.0'),\n Text(311.7103448275862, 149.49, 'X[0] <= 10.05\\nmse = 33407056.688\\nsamples = 4\\nvalue = 113475.25'),\n Text(300.1655172413793, 122.31, 'X[0] <= 8.6\\nmse = 13207004.222\\nsamples = 3\\nvalue = 110676.333'),\n Text(288.6206896551724, 95.13, 'mse = 0.0\\nsamples = 1\\nvalue = 113812.0'),\n Text(311.7103448275862, 95.13, 'X[0] <= 9.3\\nmse = 12436202.25\\nsamples = 2\\nvalue = 109108.5'),\n Text(300.1655172413793, 67.94999999999999, 'mse = 0.0\\nsamples = 1\\nvalue = 105582.0'),\n Text(323.2551724137931, 67.94999999999999, 'mse = 0.0\\nsamples = 1\\nvalue = 112635.0'),\n Text(323.2551724137931, 122.31, 'mse = 0.0\\nsamples = 1\\nvalue = 121872.0')]"
     },
     "execution_count": 143,
     "metadata": {},
     "output_type": "execute_result"
    },
    {
     "data": {
      "text/plain": "<Figure size 432x288 with 1 Axes>",
      "image/png": "[encoded data removed]"
     },
     "metadata": {},
     "output_type": "display_data"
    }
   ],
   "source": [
    "from sklearn import tree\n",
    "tree.plot_tree(regressor)"
   ],
   "metadata": {
    "collapsed": false,
    "ExecuteTime": {
     "end_time": "2023-05-17T02:27:43.569625200Z",
     "start_time": "2023-05-17T02:27:42.649616500Z"
    }
   }
  },
  {
   "cell_type": "code",
   "execution_count": 144,
   "outputs": [
    {
     "data": {
      "text/plain": "array([ 46205. , 121872. ,  56375.5,  56375.5, 112635. , 105582. ])"
     },
     "execution_count": 144,
     "metadata": {},
     "output_type": "execute_result"
    }
   ],
   "source": [
    "y_pred = regressor.predict(X_test)\n",
    "y_pred"
   ],
   "metadata": {
    "collapsed": false,
    "ExecuteTime": {
     "end_time": "2023-05-17T02:27:43.632622700Z",
     "start_time": "2023-05-17T02:27:43.570626800Z"
    }
   }
  },
  {
   "cell_type": "code",
   "execution_count": 145,
   "outputs": [
    {
     "data": {
      "text/plain": "     Actual  Predicted\n0   37731.0    46205.0\n1  122391.0   121872.0\n2   57081.0    56375.5\n3   63218.0    56375.5\n4  116969.0   112635.0\n5  109431.0   105582.0",
      "text/html": "<div>\n<style scoped>\n    .dataframe tbody tr th:only-of-type {\n        vertical-align: middle;\n    }\n\n    .dataframe tbody tr th {\n        vertical-align: top;\n    }\n\n    .dataframe thead th {\n        text-align: right;\n    }\n</style>\n<table border=\"1\" class=\"dataframe\">\n  <thead>\n    <tr style=\"text-align: right;\">\n      <th></th>\n      <th>Actual</th>\n      <th>Predicted</th>\n    </tr>\n  </thead>\n  <tbody>\n    <tr>\n      <th>0</th>\n      <td>37731.0</td>\n      <td>46205.0</td>\n    </tr>\n    <tr>\n      <th>1</th>\n      <td>122391.0</td>\n      <td>121872.0</td>\n    </tr>\n    <tr>\n      <th>2</th>\n      <td>57081.0</td>\n      <td>56375.5</td>\n    </tr>\n    <tr>\n      <th>3</th>\n      <td>63218.0</td>\n      <td>56375.5</td>\n    </tr>\n    <tr>\n      <th>4</th>\n      <td>116969.0</td>\n      <td>112635.0</td>\n    </tr>\n    <tr>\n      <th>5</th>\n      <td>109431.0</td>\n      <td>105582.0</td>\n    </tr>\n  </tbody>\n</table>\n</div>"
     },
     "execution_count": 145,
     "metadata": {},
     "output_type": "execute_result"
    }
   ],
   "source": [
    "df=pd.DataFrame({'Actual':y_test, 'Predicted':y_pred})\n",
    "df"
   ],
   "metadata": {
    "collapsed": false,
    "ExecuteTime": {
     "end_time": "2023-05-17T02:27:43.632622700Z",
     "start_time": "2023-05-17T02:27:43.629622800Z"
    }
   }
  },
  {
   "cell_type": "code",
   "execution_count": 146,
   "outputs": [
    {
     "name": "stdout",
     "output_type": "stream",
     "text": [
      "Mean Squared Error: 25498988.416666668\n",
      "Mean Absolute Error: 4120.666666666667\n"
     ]
    }
   ],
   "source": [
    "from sklearn import metrics\n",
    "print('Mean Squared Error:', metrics.mean_squared_error(y_test, y_pred))\n",
    "print('Mean Absolute Error:', metrics.mean_absolute_error(y_test, y_pred))"
   ],
   "metadata": {
    "collapsed": false,
    "ExecuteTime": {
     "end_time": "2023-05-17T02:27:43.632622700Z",
     "start_time": "2023-05-17T02:27:43.629622800Z"
    }
   }
  },
  {
   "cell_type": "code",
   "execution_count": 147,
   "outputs": [
    {
     "data": {
      "text/plain": "5.421715809463662"
     },
     "execution_count": 147,
     "metadata": {},
     "output_type": "execute_result"
    }
   ],
   "source": [
    "metrics.mean_absolute_error(y_test, y_pred) / np.average(y) * 100"
   ],
   "metadata": {
    "collapsed": false,
    "ExecuteTime": {
     "end_time": "2023-05-17T02:27:43.632622700Z",
     "start_time": "2023-05-17T02:27:43.629622800Z"
    }
   }
  },
  {
   "cell_type": "markdown",
   "source": [
    "## 1.4.1 Задание\n",
    ">Постройте модель регрессии для данных из предыдущей рабочей тетради. Для примера можно взять потребления газа (в миллионах галлонов) в 48 штатах США или набор данных о качестве красного вина:\n",
    "https://raw.githubusercontent.com/likarajo/petrol_consumption/master/data/petrol_consumption.csv\n",
    "https://raw.githubusercontent.com/aniruddhachoudhury/Red-Wine-Quality/master/winequality-red.csv\n",
    "Постройте прогноз. Оцените точность модели."
   ],
   "metadata": {
    "collapsed": false
   }
  },
  {
   "cell_type": "code",
   "execution_count": 148,
   "outputs": [
    {
     "name": "stdout",
     "output_type": "stream",
     "text": [
      "(48, 5)\n",
      "    Petrol_tax  Average_income  Paved_Highways  Population_Driver_licence(%)  \\\n",
      "0         9.00            3571            1976                         0.525   \n",
      "1         9.00            4092            1250                         0.572   \n",
      "2         9.00            3865            1586                         0.580   \n",
      "3         7.50            4870            2351                         0.529   \n",
      "4         8.00            4399             431                         0.544   \n",
      "5        10.00            5342            1333                         0.571   \n",
      "6         8.00            5319           11868                         0.451   \n",
      "7         8.00            5126            2138                         0.553   \n",
      "8         8.00            4447            8577                         0.529   \n",
      "9         7.00            4512            8507                         0.552   \n",
      "10        8.00            4391            5939                         0.530   \n",
      "11        7.50            5126           14186                         0.525   \n",
      "12        7.00            4817            6930                         0.574   \n",
      "13        7.00            4207            6580                         0.545   \n",
      "14        7.00            4332            8159                         0.608   \n",
      "15        7.00            4318           10340                         0.586   \n",
      "16        7.00            4206            8508                         0.572   \n",
      "17        7.00            3718            4725                         0.540   \n",
      "18        7.00            4716            5915                         0.724   \n",
      "19        8.50            4341            6010                         0.677   \n",
      "20        7.00            4593            7834                         0.663   \n",
      "21        8.00            4983             602                         0.602   \n",
      "22        9.00            4897            2449                         0.511   \n",
      "23        9.00            4258            4686                         0.517   \n",
      "24        8.50            4574            2619                         0.551   \n",
      "25        9.00            3721            4746                         0.544   \n",
      "26        8.00            3448            5399                         0.548   \n",
      "27        7.50            3846            9061                         0.579   \n",
      "28        8.00            4188            5975                         0.563   \n",
      "29        9.00            3601            4650                         0.493   \n",
      "30        7.00            3640            6905                         0.518   \n",
      "31        7.00            3333            6594                         0.513   \n",
      "32        8.00            3063            6524                         0.578   \n",
      "33        7.50            3357            4121                         0.547   \n",
      "34        8.00            3528            3495                         0.487   \n",
      "35        6.58            3802            7834                         0.629   \n",
      "36        5.00            4045           17782                         0.566   \n",
      "37        7.00            3897            6385                         0.586   \n",
      "38        8.50            3635            3274                         0.663   \n",
      "39        7.00            4345            3905                         0.672   \n",
      "40        7.00            4449            4639                         0.626   \n",
      "41        7.00            3656            3985                         0.563   \n",
      "42        7.00            4300            3635                         0.603   \n",
      "43        7.00            3745            2611                         0.508   \n",
      "44        6.00            5215            2302                         0.672   \n",
      "45        9.00            4476            3942                         0.571   \n",
      "46        7.00            4296            4083                         0.623   \n",
      "47        7.00            5002            9794                         0.593   \n",
      "\n",
      "    Petrol_Consumption  \n",
      "0                  541  \n",
      "1                  524  \n",
      "2                  561  \n",
      "3                  414  \n",
      "4                  410  \n",
      "5                  457  \n",
      "6                  344  \n",
      "7                  467  \n",
      "8                  464  \n",
      "9                  498  \n",
      "10                 580  \n",
      "11                 471  \n",
      "12                 525  \n",
      "13                 508  \n",
      "14                 566  \n",
      "15                 635  \n",
      "16                 603  \n",
      "17                 714  \n",
      "18                 865  \n",
      "19                 640  \n",
      "20                 649  \n",
      "21                 540  \n",
      "22                 464  \n",
      "23                 547  \n",
      "24                 460  \n",
      "25                 566  \n",
      "26                 577  \n",
      "27                 631  \n",
      "28                 574  \n",
      "29                 534  \n",
      "30                 571  \n",
      "31                 554  \n",
      "32                 577  \n",
      "33                 628  \n",
      "34                 487  \n",
      "35                 644  \n",
      "36                 640  \n",
      "37                 704  \n",
      "38                 648  \n",
      "39                 968  \n",
      "40                 587  \n",
      "41                 699  \n",
      "42                 632  \n",
      "43                 591  \n",
      "44                 782  \n",
      "45                 510  \n",
      "46                 610  \n",
      "47                 524  \n"
     ]
    },
    {
     "data": {
      "text/plain": "<Figure size 432x288 with 1 Axes>",
      "image/png": "[encoded data removed]"
     },
     "metadata": {},
     "output_type": "display_data"
    }
   ],
   "source": [
    "import numpy as np\n",
    "import pandas as pd\n",
    "import matplotlib.pyplot as plt\n",
    "from pandas import DataFrame,Series\n",
    "from sklearn.model_selection import train_test_split\n",
    "from sklearn.linear_model import LinearRegression\n",
    "from sklearn.tree import DecisionTreeRegressor\n",
    "from sklearn import tree\n",
    "from sklearn import metrics\n",
    "url = r'https://raw.githubusercontent.com/likarajo/petrol_consumption/master/data/petrol_consumption.csv'\n",
    "df = pd.read_csv(url)\n",
    "df.head()\n",
    "print(df.shape)\n",
    "df.describe()\n",
    "print(df)\n",
    "plt.scatter(df['Petrol_tax'],df['Petrol_Consumption'], color = 'b', label = \"exp\")\n",
    "plt.xlabel(\"Налог на нефть\")\n",
    "plt.ylabel(\"Потребление нефти\")\n",
    "plt.show()"
   ],
   "metadata": {
    "collapsed": false,
    "ExecuteTime": {
     "end_time": "2023-05-17T02:27:43.924625600Z",
     "start_time": "2023-05-17T02:27:43.630623400Z"
    }
   }
  },
  {
   "cell_type": "code",
   "execution_count": 149,
   "outputs": [
    {
     "data": {
      "text/plain": "<Figure size 432x288 with 1 Axes>",
      "image/png": "[encoded data removed]"
     },
     "metadata": {},
     "output_type": "display_data"
    }
   ],
   "source": [
    "plt.scatter(df['Average_income'],df['Petrol_Consumption'], color = 'b', label = \"exp\")\n",
    "plt.xlabel(\"Средняя зарплата\")\n",
    "plt.ylabel(\"Потребление нефти\")\n",
    "plt.show()"
   ],
   "metadata": {
    "collapsed": false,
    "ExecuteTime": {
     "end_time": "2023-05-17T02:27:44.070625700Z",
     "start_time": "2023-05-17T02:27:43.970623600Z"
    }
   }
  },
  {
   "cell_type": "code",
   "execution_count": 150,
   "outputs": [
    {
     "data": {
      "text/plain": "<Figure size 432x288 with 1 Axes>",
      "image/png": "[encoded data removed]"
     },
     "metadata": {},
     "output_type": "display_data"
    }
   ],
   "source": [
    "plt.scatter(df['Paved_Highways'],df['Petrol_Consumption'], color = 'b', label = \"exp\")\n",
    "plt.xlabel(\"Количество сделанных дорог\")\n",
    "plt.ylabel(\"Потребление нефти\")\n",
    "plt.show()"
   ],
   "metadata": {
    "collapsed": false,
    "ExecuteTime": {
     "end_time": "2023-05-17T02:27:44.178623400Z",
     "start_time": "2023-05-17T02:27:44.069626300Z"
    }
   }
  },
  {
   "cell_type": "code",
   "execution_count": 151,
   "outputs": [
    {
     "data": {
      "text/plain": "<Figure size 432x288 with 1 Axes>",
      "image/png": "[encoded data removed]"
     },
     "metadata": {},
     "output_type": "display_data"
    }
   ],
   "source": [
    "plt.scatter(df['Population_Driver_licence(%)'],df['Petrol_Consumption'], color = 'b', label = \"exp\")\n",
    "plt.xlabel(\"Количество людей с водительскими правами\")\n",
    "plt.ylabel(\"Потребление нефти\")\n",
    "plt.show()"
   ],
   "metadata": {
    "collapsed": false,
    "ExecuteTime": {
     "end_time": "2023-05-17T02:27:44.349623800Z",
     "start_time": "2023-05-17T02:27:44.189623500Z"
    }
   }
  },
  {
   "cell_type": "code",
   "execution_count": 155,
   "outputs": [],
   "source": [
    "x = df[['Average_income','Population_Driver_licence(%)','Petrol_Consumption', 'Petrol_tax']]\n",
    "y = df['Petrol_Consumption']\n",
    "x_train,x_test, y_train, y_test = train_test_split(x, y, test_size = 0.2, random_state = 0)"
   ],
   "metadata": {
    "collapsed": false,
    "ExecuteTime": {
     "end_time": "2023-05-17T02:29:34.056096400Z",
     "start_time": "2023-05-17T02:29:34.051095100Z"
    }
   }
  },
  {
   "cell_type": "code",
   "execution_count": 156,
   "outputs": [
    {
     "name": "stdout",
     "output_type": "stream",
     "text": [
      "[540. 414. 574. 574. 574. 699. 498. 591. 460. 574.]\n",
      "    Actual  Predicted\n",
      "29     534      540.0\n",
      "4      410      414.0\n",
      "26     577      574.0\n",
      "30     571      574.0\n",
      "32     577      574.0\n",
      "37     704      699.0\n",
      "34     487      498.0\n",
      "40     587      591.0\n",
      "7      467      460.0\n",
      "10     580      574.0\n",
      "MSError: 32.6\n",
      "MAError: 5.2\n",
      "DecisionTreeRegressor\n"
     ]
    },
    {
     "data": {
      "text/plain": "[Text(177.03960674157304, 205.35999999999999, 'X[2] <= 597.0\\nmse = 13692.341\\nsamples = 38\\nvalue = 583.974'),\n Text(64.89101123595506, 181.2, 'X[2] <= 484.5\\nmse = 3330.994\\nsamples = 22\\nvalue = 509.227'),\n Text(15.047191011235956, 157.04, 'X[1] <= 0.481\\nmse = 1812.694\\nsamples = 7\\nvalue = 439.143'),\n Text(7.523595505617978, 132.88, 'mse = 0.0\\nsamples = 1\\nvalue = 344.0'),\n Text(22.570786516853936, 132.88, 'X[2] <= 435.5\\nmse = 354.667\\nsamples = 6\\nvalue = 455.0'),\n Text(15.047191011235956, 108.72, 'mse = 0.0\\nsamples = 1\\nvalue = 414.0'),\n Text(30.094382022471912, 108.72, 'X[2] <= 467.5\\nmse = 22.16\\nsamples = 5\\nvalue = 463.2'),\n Text(22.570786516853936, 84.56, 'X[1] <= 0.54\\nmse = 8.688\\nsamples = 4\\nvalue = 461.25'),\n Text(15.047191011235956, 60.400000000000006, 'mse = 0.0\\nsamples = 2\\nvalue = 464.0'),\n Text(30.094382022471912, 60.400000000000006, 'X[1] <= 0.561\\nmse = 2.25\\nsamples = 2\\nvalue = 458.5'),\n Text(22.570786516853936, 36.24000000000001, 'mse = 0.0\\nsamples = 1\\nvalue = 460.0'),\n Text(37.61797752808989, 36.24000000000001, 'mse = 0.0\\nsamples = 1\\nvalue = 457.0'),\n Text(37.61797752808989, 84.56, 'mse = 0.0\\nsamples = 1\\nvalue = 471.0'),\n Text(114.73483146067416, 157.04, 'X[2] <= 532.5\\nmse = 677.662\\nsamples = 15\\nvalue = 541.933'),\n Text(75.23595505617978, 132.88, 'X[2] <= 517.0\\nmse = 104.139\\nsamples = 6\\nvalue = 514.833'),\n Text(60.188764044943824, 108.72, 'X[2] <= 503.0\\nmse = 27.556\\nsamples = 3\\nvalue = 505.333'),\n Text(52.66516853932585, 84.56, 'mse = 0.0\\nsamples = 1\\nvalue = 498.0'),\n Text(67.7123595505618, 84.56, 'X[1] <= 0.558\\nmse = 1.0\\nsamples = 2\\nvalue = 509.0'),\n Text(60.188764044943824, 60.400000000000006, 'mse = 0.0\\nsamples = 1\\nvalue = 508.0'),\n Text(75.23595505617978, 60.400000000000006, 'mse = 0.0\\nsamples = 1\\nvalue = 510.0'),\n Text(90.28314606741574, 108.72, 'X[2] <= 524.5\\nmse = 0.222\\nsamples = 3\\nvalue = 524.333'),\n Text(82.75955056179775, 84.56, 'mse = 0.0\\nsamples = 2\\nvalue = 524.0'),\n Text(97.80674157303372, 84.56, 'mse = 0.0\\nsamples = 1\\nvalue = 525.0'),\n Text(154.23370786516855, 132.88, 'X[2] <= 557.5\\nmse = 244.0\\nsamples = 9\\nvalue = 560.0'),\n Text(127.90112359550562, 108.72, 'X[2] <= 544.0\\nmse = 31.25\\nsamples = 4\\nvalue = 545.5'),\n Text(112.85393258426967, 84.56, 'X[2] <= 540.5\\nmse = 0.25\\nsamples = 2\\nvalue = 540.5'),\n Text(105.3303370786517, 60.400000000000006, 'mse = 0.0\\nsamples = 1\\nvalue = 540.0'),\n Text(120.37752808988765, 60.400000000000006, 'mse = 0.0\\nsamples = 1\\nvalue = 541.0'),\n Text(142.94831460674158, 84.56, 'X[1] <= 0.515\\nmse = 12.25\\nsamples = 2\\nvalue = 550.5'),\n Text(135.4247191011236, 60.400000000000006, 'mse = 0.0\\nsamples = 1\\nvalue = 554.0'),\n Text(150.47191011235955, 60.400000000000006, 'mse = 0.0\\nsamples = 1\\nvalue = 547.0'),\n Text(180.56629213483149, 108.72, 'X[2] <= 582.5\\nmse = 111.44\\nsamples = 5\\nvalue = 571.6'),\n Text(173.04269662921348, 84.56, 'X[2] <= 570.0\\nmse = 21.688\\nsamples = 4\\nvalue = 566.75'),\n Text(165.5191011235955, 60.400000000000006, 'X[2] <= 563.5\\nmse = 5.556\\nsamples = 3\\nvalue = 564.333'),\n Text(157.99550561797753, 36.24000000000001, 'mse = 0.0\\nsamples = 1\\nvalue = 561.0'),\n Text(173.04269662921348, 36.24000000000001, 'mse = 0.0\\nsamples = 2\\nvalue = 566.0'),\n Text(180.56629213483149, 60.400000000000006, 'mse = 0.0\\nsamples = 1\\nvalue = 574.0'),\n Text(188.08988764044946, 84.56, 'mse = 0.0\\nsamples = 1\\nvalue = 591.0'),\n Text(289.18820224719104, 181.2, 'X[2] <= 748.0\\nmse = 9694.062\\nsamples = 16\\nvalue = 686.75'),\n Text(258.62359550561797, 157.04, 'X[2] <= 674.0\\nmse = 883.456\\nsamples = 13\\nvalue = 644.077'),\n Text(235.11235955056182, 132.88, 'X[2] <= 619.0\\nmse = 196.562\\nsamples = 11\\nvalue = 632.727'),\n Text(210.6606741573034, 108.72, 'X[1] <= 0.598\\nmse = 12.25\\nsamples = 2\\nvalue = 606.5'),\n Text(203.1370786516854, 84.56, 'mse = 0.0\\nsamples = 1\\nvalue = 603.0'),\n Text(218.18426966292137, 84.56, 'mse = 0.0\\nsamples = 1\\nvalue = 610.0'),\n Text(259.56404494382025, 108.72, 'X[2] <= 637.5\\nmse = 50.691\\nsamples = 9\\nvalue = 638.556'),\n Text(233.23146067415732, 84.56, 'X[0] <= 3601.5\\nmse = 6.25\\nsamples = 4\\nvalue = 631.5'),\n Text(225.70786516853934, 60.400000000000006, 'mse = 0.0\\nsamples = 1\\nvalue = 628.0'),\n Text(240.7550561797753, 60.400000000000006, 'X[2] <= 633.5\\nmse = 2.889\\nsamples = 3\\nvalue = 632.667'),\n Text(233.23146067415732, 36.24000000000001, 'X[1] <= 0.591\\nmse = 0.25\\nsamples = 2\\nvalue = 631.5'),\n Text(225.70786516853934, 12.079999999999984, 'mse = 0.0\\nsamples = 1\\nvalue = 631.0'),\n Text(240.7550561797753, 12.079999999999984, 'mse = 0.0\\nsamples = 1\\nvalue = 632.0'),\n Text(248.27865168539327, 36.24000000000001, 'mse = 0.0\\nsamples = 1\\nvalue = 635.0'),\n Text(285.89662921348315, 84.56, 'X[2] <= 646.0\\nmse = 14.56\\nsamples = 5\\nvalue = 644.2'),\n Text(270.8494382022472, 60.400000000000006, 'X[0] <= 3923.5\\nmse = 3.556\\nsamples = 3\\nvalue = 641.333'),\n Text(263.32584269662925, 36.24000000000001, 'mse = 0.0\\nsamples = 1\\nvalue = 644.0'),\n Text(278.3730337078652, 36.24000000000001, 'mse = 0.0\\nsamples = 2\\nvalue = 640.0'),\n Text(300.9438202247191, 60.400000000000006, 'X[0] <= 4114.0\\nmse = 0.25\\nsamples = 2\\nvalue = 648.5'),\n Text(293.42022471910116, 36.24000000000001, 'mse = 0.0\\nsamples = 1\\nvalue = 648.0'),\n Text(308.4674157303371, 36.24000000000001, 'mse = 0.0\\nsamples = 1\\nvalue = 649.0'),\n Text(282.13483146067415, 132.88, 'X[1] <= 0.552\\nmse = 56.25\\nsamples = 2\\nvalue = 706.5'),\n Text(274.6112359550562, 108.72, 'mse = 0.0\\nsamples = 1\\nvalue = 714.0'),\n Text(289.65842696629215, 108.72, 'mse = 0.0\\nsamples = 1\\nvalue = 699.0'),\n Text(319.75280898876406, 157.04, 'X[2] <= 916.5\\nmse = 5788.222\\nsamples = 3\\nvalue = 871.667'),\n Text(312.2292134831461, 132.88, 'X[1] <= 0.698\\nmse = 1722.25\\nsamples = 2\\nvalue = 823.5'),\n Text(304.7056179775281, 108.72, 'mse = 0.0\\nsamples = 1\\nvalue = 782.0'),\n Text(319.75280898876406, 108.72, 'mse = 0.0\\nsamples = 1\\nvalue = 865.0'),\n Text(327.27640449438206, 132.88, 'mse = 0.0\\nsamples = 1\\nvalue = 968.0')]"
     },
     "execution_count": 156,
     "metadata": {},
     "output_type": "execute_result"
    },
    {
     "data": {
      "text/plain": "<Figure size 432x288 with 1 Axes>",
      "image/png": "[encoded data removed]"
     },
     "metadata": {},
     "output_type": "display_data"
    }
   ],
   "source": [
    "reg = DecisionTreeRegressor()\n",
    "reg.fit(x_train, y_train)\n",
    "y_pred = reg.predict(x_test)\n",
    "print(y_pred)\n",
    "ds = pd.DataFrame({'Actual': y_test, 'Predicted': y_pred})\n",
    "print(ds)\n",
    "print('MSError:',metrics.mean_squared_error(y_test, y_pred))\n",
    "print('MAError:',metrics.mean_absolute_error(y_test, y_pred))\n",
    "print('DecisionTreeRegressor')\n",
    "tree.plot_tree(reg)"
   ],
   "metadata": {
    "collapsed": false,
    "ExecuteTime": {
     "end_time": "2023-05-17T02:29:37.631001900Z",
     "start_time": "2023-05-17T02:29:36.208864500Z"
    }
   }
  },
  {
   "cell_type": "code",
   "execution_count": null,
   "outputs": [],
   "source": [],
   "metadata": {
    "collapsed": false
   }
  }
 ],
 "metadata": {
  "kernelspec": {
   "display_name": "Python 3",
   "language": "python",
   "name": "python3"
  },
  "language_info": {
   "codemirror_mode": {
    "name": "ipython",
    "version": 2
   },
   "file_extension": ".py",
   "mimetype": "text/x-python",
   "name": "python",
   "nbconvert_exporter": "python",
   "pygments_lexer": "ipython2",
   "version": "2.7.6"
  }
 },
 "nbformat": 4,
 "nbformat_minor": 0
}
