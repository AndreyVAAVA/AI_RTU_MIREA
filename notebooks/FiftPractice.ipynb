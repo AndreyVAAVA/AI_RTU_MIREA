{
 "cells": [
  {
   "cell_type": "markdown",
   "source": [
    "## Задание 1.1"
   ],
   "metadata": {
    "collapsed": false
   }
  },
  {
   "cell_type": "code",
   "execution_count": 3,
   "outputs": [
    {
     "data": {
      "text/plain": "3.141592653589793"
     },
     "execution_count": 3,
     "metadata": {},
     "output_type": "execute_result"
    }
   ],
   "source": [
    "import math\n",
    "\n",
    "\n",
    "class Trigonometric:\n",
    "    @staticmethod\n",
    "    def cos(x):\n",
    "        return math.cos(x)\n",
    "    @staticmethod\n",
    "    def sin(x):\n",
    "        return math.sin(x)\n",
    "    @staticmethod\n",
    "    def tan(x):\n",
    "        return Trigonometric.sin(x)/Trigonometric.cos(x)\n",
    "    @staticmethod\n",
    "    def asin(x):\n",
    "        return math.asin(x)\n",
    "    @staticmethod\n",
    "    def acos(x):\n",
    "        return math.acos(x)\n",
    "    @staticmethod\n",
    "    def atan(x):\n",
    "        return Trigonometric.asin(x) / Trigonometric.acos(x)\n",
    "    @staticmethod\n",
    "    def degrees_to_radian(x):\n",
    "        return x * math.pi / 180\n",
    "\n",
    "Trigonometric.degrees_to_radian(180)"
   ],
   "metadata": {
    "collapsed": false
   }
  },
  {
   "cell_type": "markdown",
   "source": [
    "## Задание 1.2.1"
   ],
   "metadata": {
    "collapsed": false
   }
  },
  {
   "cell_type": "code",
   "execution_count": 5,
   "outputs": [
    {
     "name": "stdout",
     "output_type": "stream",
     "text": [
      "a\n",
      "['b', ['d', 'e']]\n",
      "['c', ['f']]\n"
     ]
    }
   ],
   "source": [
    "T = [\"a\", [\"b\", [\"d\", \"e\"]], [\"c\", [\"f\"]]]\n",
    "print(T[0])\n",
    "print(T[1])\n",
    "print(T[2])"
   ],
   "metadata": {
    "collapsed": false
   }
  },
  {
   "cell_type": "markdown",
   "source": [
    "## Задание 1.2.2"
   ],
   "metadata": {
    "collapsed": false
   }
  },
  {
   "cell_type": "code",
   "execution_count": 5,
   "outputs": [
    {
     "name": "stdout",
     "output_type": "stream",
     "text": [
      "1\n",
      "6\n"
     ]
    }
   ],
   "source": [
    "class Tree:\n",
    "    goRight = 0\n",
    "    def __init__(self, data):\n",
    "        self.left = None\n",
    "        self.right = None\n",
    "        self.data = data\n",
    "\n",
    "    def insert(self, data):\n",
    "        if self.data:\n",
    "            if data < self.data:\n",
    "                if self.left is None:\n",
    "                    self.left = Tree(data)\n",
    "                else:\n",
    "                    self.left.insert(data)\n",
    "            elif data > self.data:\n",
    "                if self.right is None:\n",
    "                    self.right = Tree(data)\n",
    "                else:\n",
    "                    self.right.insert(data)\n",
    "        else:\n",
    "            self.data = data\n",
    "\n",
    "    def PrintTree(self):\n",
    "        if self.left is not None:\n",
    "            Tree.goRight+=1\n",
    "            self.left.PrintTree()\n",
    "        print(self.data)\n",
    "\n",
    "\n",
    "\n",
    "root = Tree(6)\n",
    "for i in range(0, 10):\n",
    "    root.insert(i)\n",
    "root.PrintTree()"
   ],
   "metadata": {
    "collapsed": false
   }
  }
 ],
 "metadata": {
  "kernelspec": {
   "display_name": "Python 3",
   "language": "python",
   "name": "python3"
  },
  "language_info": {
   "codemirror_mode": {
    "name": "ipython",
    "version": 2
   },
   "file_extension": ".py",
   "mimetype": "text/x-python",
   "name": "python",
   "nbconvert_exporter": "python",
   "pygments_lexer": "ipython2",
   "version": "2.7.6"
  }
 },
 "nbformat": 4,
 "nbformat_minor": 0
}
